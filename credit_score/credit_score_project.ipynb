{
 "cells": [
  {
   "cell_type": "markdown",
   "id": "386f2ae7",
   "metadata": {
    "deletable": false,
    "editable": false,
    "id": "386f2ae7"
   },
   "source": [
    "# Исследование надежности заемщиков\n"
   ]
  },
  {
   "cell_type": "markdown",
   "id": "26613308",
   "metadata": {
    "deletable": false,
    "editable": false,
    "id": "26613308"
   },
   "source": [
    "## Откройте таблицу и изучите общую информацию о данных"
   ]
  },
  {
   "cell_type": "code",
   "execution_count": 1,
   "id": "77a68a90",
   "metadata": {
    "deletable": false,
    "id": "77a68a90"
   },
   "outputs": [],
   "source": [
    "from dotenv import load_dotenv\n",
    "import matplotlib.pyplot as plt\n",
    "import os\n",
    "import pandas as pd\n",
    "import seaborn as sns\n",
    "\n",
    "\n",
    "load_dotenv()\n",
    "\n",
    "try:\n",
    "    data = pd.read_csv('/datasets/data.csv')\n",
    "except:\n",
    "    data = pd.read_csv(os.getenv('csd', ''))"
   ]
  },
  {
   "cell_type": "code",
   "execution_count": 2,
   "id": "b0451a9a",
   "metadata": {
    "deletable": false,
    "id": "b0451a9a",
    "outputId": "1a8f3ef2-d323-4ec2-ddf7-89670b5944c4",
    "scrolled": true
   },
   "outputs": [
    {
     "data": {
      "text/html": [
       "<div>\n",
       "<style scoped>\n",
       "    .dataframe tbody tr th:only-of-type {\n",
       "        vertical-align: middle;\n",
       "    }\n",
       "\n",
       "    .dataframe tbody tr th {\n",
       "        vertical-align: top;\n",
       "    }\n",
       "\n",
       "    .dataframe thead th {\n",
       "        text-align: right;\n",
       "    }\n",
       "</style>\n",
       "<table border=\"1\" class=\"dataframe\">\n",
       "  <thead>\n",
       "    <tr style=\"text-align: right;\">\n",
       "      <th></th>\n",
       "      <th>children</th>\n",
       "      <th>days_employed</th>\n",
       "      <th>dob_years</th>\n",
       "      <th>education</th>\n",
       "      <th>education_id</th>\n",
       "      <th>family_status</th>\n",
       "      <th>family_status_id</th>\n",
       "      <th>gender</th>\n",
       "      <th>income_type</th>\n",
       "      <th>debt</th>\n",
       "      <th>total_income</th>\n",
       "      <th>purpose</th>\n",
       "    </tr>\n",
       "  </thead>\n",
       "  <tbody>\n",
       "    <tr>\n",
       "      <th>0</th>\n",
       "      <td>1</td>\n",
       "      <td>-8437.673028</td>\n",
       "      <td>42</td>\n",
       "      <td>высшее</td>\n",
       "      <td>0</td>\n",
       "      <td>женат / замужем</td>\n",
       "      <td>0</td>\n",
       "      <td>F</td>\n",
       "      <td>сотрудник</td>\n",
       "      <td>0</td>\n",
       "      <td>253875.639453</td>\n",
       "      <td>покупка жилья</td>\n",
       "    </tr>\n",
       "    <tr>\n",
       "      <th>1</th>\n",
       "      <td>1</td>\n",
       "      <td>-4024.803754</td>\n",
       "      <td>36</td>\n",
       "      <td>среднее</td>\n",
       "      <td>1</td>\n",
       "      <td>женат / замужем</td>\n",
       "      <td>0</td>\n",
       "      <td>F</td>\n",
       "      <td>сотрудник</td>\n",
       "      <td>0</td>\n",
       "      <td>112080.014102</td>\n",
       "      <td>приобретение автомобиля</td>\n",
       "    </tr>\n",
       "    <tr>\n",
       "      <th>2</th>\n",
       "      <td>0</td>\n",
       "      <td>-5623.422610</td>\n",
       "      <td>33</td>\n",
       "      <td>Среднее</td>\n",
       "      <td>1</td>\n",
       "      <td>женат / замужем</td>\n",
       "      <td>0</td>\n",
       "      <td>M</td>\n",
       "      <td>сотрудник</td>\n",
       "      <td>0</td>\n",
       "      <td>145885.952297</td>\n",
       "      <td>покупка жилья</td>\n",
       "    </tr>\n",
       "    <tr>\n",
       "      <th>3</th>\n",
       "      <td>3</td>\n",
       "      <td>-4124.747207</td>\n",
       "      <td>32</td>\n",
       "      <td>среднее</td>\n",
       "      <td>1</td>\n",
       "      <td>женат / замужем</td>\n",
       "      <td>0</td>\n",
       "      <td>M</td>\n",
       "      <td>сотрудник</td>\n",
       "      <td>0</td>\n",
       "      <td>267628.550329</td>\n",
       "      <td>дополнительное образование</td>\n",
       "    </tr>\n",
       "    <tr>\n",
       "      <th>4</th>\n",
       "      <td>0</td>\n",
       "      <td>340266.072047</td>\n",
       "      <td>53</td>\n",
       "      <td>среднее</td>\n",
       "      <td>1</td>\n",
       "      <td>гражданский брак</td>\n",
       "      <td>1</td>\n",
       "      <td>F</td>\n",
       "      <td>пенсионер</td>\n",
       "      <td>0</td>\n",
       "      <td>158616.077870</td>\n",
       "      <td>сыграть свадьбу</td>\n",
       "    </tr>\n",
       "    <tr>\n",
       "      <th>5</th>\n",
       "      <td>0</td>\n",
       "      <td>-926.185831</td>\n",
       "      <td>27</td>\n",
       "      <td>высшее</td>\n",
       "      <td>0</td>\n",
       "      <td>гражданский брак</td>\n",
       "      <td>1</td>\n",
       "      <td>M</td>\n",
       "      <td>компаньон</td>\n",
       "      <td>0</td>\n",
       "      <td>255763.565419</td>\n",
       "      <td>покупка жилья</td>\n",
       "    </tr>\n",
       "    <tr>\n",
       "      <th>6</th>\n",
       "      <td>0</td>\n",
       "      <td>-2879.202052</td>\n",
       "      <td>43</td>\n",
       "      <td>высшее</td>\n",
       "      <td>0</td>\n",
       "      <td>женат / замужем</td>\n",
       "      <td>0</td>\n",
       "      <td>F</td>\n",
       "      <td>компаньон</td>\n",
       "      <td>0</td>\n",
       "      <td>240525.971920</td>\n",
       "      <td>операции с жильем</td>\n",
       "    </tr>\n",
       "    <tr>\n",
       "      <th>7</th>\n",
       "      <td>0</td>\n",
       "      <td>-152.779569</td>\n",
       "      <td>50</td>\n",
       "      <td>СРЕДНЕЕ</td>\n",
       "      <td>1</td>\n",
       "      <td>женат / замужем</td>\n",
       "      <td>0</td>\n",
       "      <td>M</td>\n",
       "      <td>сотрудник</td>\n",
       "      <td>0</td>\n",
       "      <td>135823.934197</td>\n",
       "      <td>образование</td>\n",
       "    </tr>\n",
       "    <tr>\n",
       "      <th>8</th>\n",
       "      <td>2</td>\n",
       "      <td>-6929.865299</td>\n",
       "      <td>35</td>\n",
       "      <td>ВЫСШЕЕ</td>\n",
       "      <td>0</td>\n",
       "      <td>гражданский брак</td>\n",
       "      <td>1</td>\n",
       "      <td>F</td>\n",
       "      <td>сотрудник</td>\n",
       "      <td>0</td>\n",
       "      <td>95856.832424</td>\n",
       "      <td>на проведение свадьбы</td>\n",
       "    </tr>\n",
       "    <tr>\n",
       "      <th>9</th>\n",
       "      <td>0</td>\n",
       "      <td>-2188.756445</td>\n",
       "      <td>41</td>\n",
       "      <td>среднее</td>\n",
       "      <td>1</td>\n",
       "      <td>женат / замужем</td>\n",
       "      <td>0</td>\n",
       "      <td>M</td>\n",
       "      <td>сотрудник</td>\n",
       "      <td>0</td>\n",
       "      <td>144425.938277</td>\n",
       "      <td>покупка жилья для семьи</td>\n",
       "    </tr>\n",
       "    <tr>\n",
       "      <th>10</th>\n",
       "      <td>2</td>\n",
       "      <td>-4171.483647</td>\n",
       "      <td>36</td>\n",
       "      <td>высшее</td>\n",
       "      <td>0</td>\n",
       "      <td>женат / замужем</td>\n",
       "      <td>0</td>\n",
       "      <td>M</td>\n",
       "      <td>компаньон</td>\n",
       "      <td>0</td>\n",
       "      <td>113943.491460</td>\n",
       "      <td>покупка недвижимости</td>\n",
       "    </tr>\n",
       "    <tr>\n",
       "      <th>11</th>\n",
       "      <td>0</td>\n",
       "      <td>-792.701887</td>\n",
       "      <td>40</td>\n",
       "      <td>среднее</td>\n",
       "      <td>1</td>\n",
       "      <td>женат / замужем</td>\n",
       "      <td>0</td>\n",
       "      <td>F</td>\n",
       "      <td>сотрудник</td>\n",
       "      <td>0</td>\n",
       "      <td>77069.234271</td>\n",
       "      <td>покупка коммерческой недвижимости</td>\n",
       "    </tr>\n",
       "    <tr>\n",
       "      <th>12</th>\n",
       "      <td>0</td>\n",
       "      <td>NaN</td>\n",
       "      <td>65</td>\n",
       "      <td>среднее</td>\n",
       "      <td>1</td>\n",
       "      <td>гражданский брак</td>\n",
       "      <td>1</td>\n",
       "      <td>M</td>\n",
       "      <td>пенсионер</td>\n",
       "      <td>0</td>\n",
       "      <td>NaN</td>\n",
       "      <td>сыграть свадьбу</td>\n",
       "    </tr>\n",
       "    <tr>\n",
       "      <th>13</th>\n",
       "      <td>0</td>\n",
       "      <td>-1846.641941</td>\n",
       "      <td>54</td>\n",
       "      <td>неоконченное высшее</td>\n",
       "      <td>2</td>\n",
       "      <td>женат / замужем</td>\n",
       "      <td>0</td>\n",
       "      <td>F</td>\n",
       "      <td>сотрудник</td>\n",
       "      <td>0</td>\n",
       "      <td>130458.228857</td>\n",
       "      <td>приобретение автомобиля</td>\n",
       "    </tr>\n",
       "    <tr>\n",
       "      <th>14</th>\n",
       "      <td>0</td>\n",
       "      <td>-1844.956182</td>\n",
       "      <td>56</td>\n",
       "      <td>высшее</td>\n",
       "      <td>0</td>\n",
       "      <td>гражданский брак</td>\n",
       "      <td>1</td>\n",
       "      <td>F</td>\n",
       "      <td>компаньон</td>\n",
       "      <td>1</td>\n",
       "      <td>165127.911772</td>\n",
       "      <td>покупка жилой недвижимости</td>\n",
       "    </tr>\n",
       "    <tr>\n",
       "      <th>15</th>\n",
       "      <td>1</td>\n",
       "      <td>-972.364419</td>\n",
       "      <td>26</td>\n",
       "      <td>среднее</td>\n",
       "      <td>1</td>\n",
       "      <td>женат / замужем</td>\n",
       "      <td>0</td>\n",
       "      <td>F</td>\n",
       "      <td>сотрудник</td>\n",
       "      <td>0</td>\n",
       "      <td>116820.904450</td>\n",
       "      <td>строительство собственной недвижимости</td>\n",
       "    </tr>\n",
       "    <tr>\n",
       "      <th>16</th>\n",
       "      <td>0</td>\n",
       "      <td>-1719.934226</td>\n",
       "      <td>35</td>\n",
       "      <td>среднее</td>\n",
       "      <td>1</td>\n",
       "      <td>женат / замужем</td>\n",
       "      <td>0</td>\n",
       "      <td>F</td>\n",
       "      <td>сотрудник</td>\n",
       "      <td>0</td>\n",
       "      <td>289202.704229</td>\n",
       "      <td>недвижимость</td>\n",
       "    </tr>\n",
       "    <tr>\n",
       "      <th>17</th>\n",
       "      <td>0</td>\n",
       "      <td>-2369.999720</td>\n",
       "      <td>33</td>\n",
       "      <td>высшее</td>\n",
       "      <td>0</td>\n",
       "      <td>гражданский брак</td>\n",
       "      <td>1</td>\n",
       "      <td>M</td>\n",
       "      <td>сотрудник</td>\n",
       "      <td>0</td>\n",
       "      <td>90410.586745</td>\n",
       "      <td>строительство недвижимости</td>\n",
       "    </tr>\n",
       "    <tr>\n",
       "      <th>18</th>\n",
       "      <td>0</td>\n",
       "      <td>400281.136913</td>\n",
       "      <td>53</td>\n",
       "      <td>среднее</td>\n",
       "      <td>1</td>\n",
       "      <td>вдовец / вдова</td>\n",
       "      <td>2</td>\n",
       "      <td>F</td>\n",
       "      <td>пенсионер</td>\n",
       "      <td>0</td>\n",
       "      <td>56823.777243</td>\n",
       "      <td>на покупку подержанного автомобиля</td>\n",
       "    </tr>\n",
       "    <tr>\n",
       "      <th>19</th>\n",
       "      <td>0</td>\n",
       "      <td>-10038.818549</td>\n",
       "      <td>48</td>\n",
       "      <td>СРЕДНЕЕ</td>\n",
       "      <td>1</td>\n",
       "      <td>в разводе</td>\n",
       "      <td>3</td>\n",
       "      <td>F</td>\n",
       "      <td>сотрудник</td>\n",
       "      <td>0</td>\n",
       "      <td>242831.107982</td>\n",
       "      <td>на покупку своего автомобиля</td>\n",
       "    </tr>\n",
       "  </tbody>\n",
       "</table>\n",
       "</div>"
      ],
      "text/plain": [
       "    children  days_employed  dob_years            education  education_id  \\\n",
       "0          1   -8437.673028         42               высшее             0   \n",
       "1          1   -4024.803754         36              среднее             1   \n",
       "2          0   -5623.422610         33              Среднее             1   \n",
       "3          3   -4124.747207         32              среднее             1   \n",
       "4          0  340266.072047         53              среднее             1   \n",
       "5          0    -926.185831         27               высшее             0   \n",
       "6          0   -2879.202052         43               высшее             0   \n",
       "7          0    -152.779569         50              СРЕДНЕЕ             1   \n",
       "8          2   -6929.865299         35               ВЫСШЕЕ             0   \n",
       "9          0   -2188.756445         41              среднее             1   \n",
       "10         2   -4171.483647         36               высшее             0   \n",
       "11         0    -792.701887         40              среднее             1   \n",
       "12         0            NaN         65              среднее             1   \n",
       "13         0   -1846.641941         54  неоконченное высшее             2   \n",
       "14         0   -1844.956182         56               высшее             0   \n",
       "15         1    -972.364419         26              среднее             1   \n",
       "16         0   -1719.934226         35              среднее             1   \n",
       "17         0   -2369.999720         33               высшее             0   \n",
       "18         0  400281.136913         53              среднее             1   \n",
       "19         0  -10038.818549         48              СРЕДНЕЕ             1   \n",
       "\n",
       "       family_status  family_status_id gender income_type  debt  \\\n",
       "0    женат / замужем                 0      F   сотрудник     0   \n",
       "1    женат / замужем                 0      F   сотрудник     0   \n",
       "2    женат / замужем                 0      M   сотрудник     0   \n",
       "3    женат / замужем                 0      M   сотрудник     0   \n",
       "4   гражданский брак                 1      F   пенсионер     0   \n",
       "5   гражданский брак                 1      M   компаньон     0   \n",
       "6    женат / замужем                 0      F   компаньон     0   \n",
       "7    женат / замужем                 0      M   сотрудник     0   \n",
       "8   гражданский брак                 1      F   сотрудник     0   \n",
       "9    женат / замужем                 0      M   сотрудник     0   \n",
       "10   женат / замужем                 0      M   компаньон     0   \n",
       "11   женат / замужем                 0      F   сотрудник     0   \n",
       "12  гражданский брак                 1      M   пенсионер     0   \n",
       "13   женат / замужем                 0      F   сотрудник     0   \n",
       "14  гражданский брак                 1      F   компаньон     1   \n",
       "15   женат / замужем                 0      F   сотрудник     0   \n",
       "16   женат / замужем                 0      F   сотрудник     0   \n",
       "17  гражданский брак                 1      M   сотрудник     0   \n",
       "18    вдовец / вдова                 2      F   пенсионер     0   \n",
       "19         в разводе                 3      F   сотрудник     0   \n",
       "\n",
       "     total_income                                 purpose  \n",
       "0   253875.639453                           покупка жилья  \n",
       "1   112080.014102                 приобретение автомобиля  \n",
       "2   145885.952297                           покупка жилья  \n",
       "3   267628.550329              дополнительное образование  \n",
       "4   158616.077870                         сыграть свадьбу  \n",
       "5   255763.565419                           покупка жилья  \n",
       "6   240525.971920                       операции с жильем  \n",
       "7   135823.934197                             образование  \n",
       "8    95856.832424                   на проведение свадьбы  \n",
       "9   144425.938277                 покупка жилья для семьи  \n",
       "10  113943.491460                    покупка недвижимости  \n",
       "11   77069.234271       покупка коммерческой недвижимости  \n",
       "12            NaN                         сыграть свадьбу  \n",
       "13  130458.228857                 приобретение автомобиля  \n",
       "14  165127.911772              покупка жилой недвижимости  \n",
       "15  116820.904450  строительство собственной недвижимости  \n",
       "16  289202.704229                            недвижимость  \n",
       "17   90410.586745              строительство недвижимости  \n",
       "18   56823.777243      на покупку подержанного автомобиля  \n",
       "19  242831.107982            на покупку своего автомобиля  "
      ]
     },
     "execution_count": 2,
     "metadata": {},
     "output_type": "execute_result"
    }
   ],
   "source": [
    "data.head(20)"
   ]
  },
  {
   "cell_type": "code",
   "execution_count": 3,
   "id": "ab3f863b",
   "metadata": {
    "deletable": false,
    "id": "ab3f863b",
    "outputId": "15376089-8dad-46c9-b520-c05248d43158"
   },
   "outputs": [
    {
     "name": "stdout",
     "output_type": "stream",
     "text": [
      "<class 'pandas.core.frame.DataFrame'>\n",
      "RangeIndex: 21525 entries, 0 to 21524\n",
      "Data columns (total 12 columns):\n",
      " #   Column            Non-Null Count  Dtype  \n",
      "---  ------            --------------  -----  \n",
      " 0   children          21525 non-null  int64  \n",
      " 1   days_employed     19351 non-null  float64\n",
      " 2   dob_years         21525 non-null  int64  \n",
      " 3   education         21525 non-null  object \n",
      " 4   education_id      21525 non-null  int64  \n",
      " 5   family_status     21525 non-null  object \n",
      " 6   family_status_id  21525 non-null  int64  \n",
      " 7   gender            21525 non-null  object \n",
      " 8   income_type       21525 non-null  object \n",
      " 9   debt              21525 non-null  int64  \n",
      " 10  total_income      19351 non-null  float64\n",
      " 11  purpose           21525 non-null  object \n",
      "dtypes: float64(2), int64(5), object(5)\n",
      "memory usage: 2.0+ MB\n"
     ]
    }
   ],
   "source": [
    "data.info()"
   ]
  },
  {
   "cell_type": "markdown",
   "id": "60e3e22d",
   "metadata": {
    "deletable": false,
    "editable": false,
    "id": "60e3e22d"
   },
   "source": [
    "## Предобработка данных"
   ]
  },
  {
   "cell_type": "markdown",
   "id": "03dc170c",
   "metadata": {
    "deletable": false,
    "editable": false,
    "id": "03dc170c"
   },
   "source": [
    "### Удаление пропусков"
   ]
  },
  {
   "cell_type": "code",
   "execution_count": 4,
   "id": "2dc372b2",
   "metadata": {
    "deletable": false,
    "id": "2dc372b2",
    "outputId": "81f4d817-781c-465c-ed15-91ce4446810d"
   },
   "outputs": [
    {
     "data": {
      "text/plain": [
       "children               0\n",
       "days_employed       2174\n",
       "dob_years              0\n",
       "education              0\n",
       "education_id           0\n",
       "family_status          0\n",
       "family_status_id       0\n",
       "gender                 0\n",
       "income_type            0\n",
       "debt                   0\n",
       "total_income        2174\n",
       "purpose                0\n",
       "dtype: int64"
      ]
     },
     "execution_count": 4,
     "metadata": {},
     "output_type": "execute_result"
    }
   ],
   "source": [
    "data.isna().sum()"
   ]
  },
  {
   "cell_type": "code",
   "execution_count": 5,
   "id": "bdabfb6e",
   "metadata": {
    "deletable": false,
    "id": "bdabfb6e"
   },
   "outputs": [],
   "source": [
    "for t in data['income_type'].unique():\n",
    "    data.loc[(data['income_type'] == t) & (data['total_income'].isna()), 'total_income'] = \\\n",
    "    data.loc[(data['income_type'] == t), 'total_income'].median()"
   ]
  },
  {
   "cell_type": "markdown",
   "id": "5be34059",
   "metadata": {
    "deletable": false,
    "editable": false,
    "id": "5be34059"
   },
   "source": [
    "### Обработка аномальных значений"
   ]
  },
  {
   "cell_type": "code",
   "execution_count": 6,
   "id": "020c46cc",
   "metadata": {
    "deletable": false,
    "id": "020c46cc"
   },
   "outputs": [],
   "source": [
    "data['days_employed'] = data['days_employed'].abs()"
   ]
  },
  {
   "cell_type": "code",
   "execution_count": 7,
   "id": "cd3e6328",
   "metadata": {
    "deletable": false,
    "id": "cd3e6328",
    "outputId": "801ef80e-522b-4668-f34e-565af7432bcf"
   },
   "outputs": [
    {
     "data": {
      "text/plain": [
       "income_type\n",
       "безработный        366413.652744\n",
       "в декрете            3296.759962\n",
       "госслужащий          2689.368353\n",
       "компаньон            1547.382223\n",
       "пенсионер          365213.306266\n",
       "предприниматель       520.848083\n",
       "сотрудник            1574.202821\n",
       "студент               578.751554\n",
       "Name: days_employed, dtype: float64"
      ]
     },
     "execution_count": 7,
     "metadata": {},
     "output_type": "execute_result"
    }
   ],
   "source": [
    "data.groupby('income_type')['days_employed'].agg('median')"
   ]
  },
  {
   "cell_type": "markdown",
   "id": "90c5f058",
   "metadata": {
    "deletable": false,
    "editable": false,
    "id": "90c5f058"
   },
   "source": [
    "У двух типов (безработные и пенсионеры) получатся аномально большие значения. Исправить такие значения сложно, поэтому оставьте их как есть."
   ]
  },
  {
   "cell_type": "code",
   "execution_count": 8,
   "id": "dbb37b8e",
   "metadata": {
    "deletable": false,
    "id": "dbb37b8e",
    "outputId": "6975b15c-7f95-4697-d16d-a0c79b657b03"
   },
   "outputs": [
    {
     "data": {
      "text/plain": [
       "array([ 1,  0,  3,  2, -1,  4, 20,  5], dtype=int64)"
      ]
     },
     "execution_count": 8,
     "metadata": {},
     "output_type": "execute_result"
    }
   ],
   "source": [
    "data['children'].unique()"
   ]
  },
  {
   "cell_type": "code",
   "execution_count": 9,
   "id": "20009df8",
   "metadata": {
    "deletable": false,
    "id": "20009df8"
   },
   "outputs": [],
   "source": [
    "data = data[(data['children'] != -1) & (data['children'] != 20)]"
   ]
  },
  {
   "cell_type": "code",
   "execution_count": 10,
   "id": "07337b81",
   "metadata": {
    "deletable": false,
    "id": "07337b81",
    "outputId": "b2097101-d49d-44d9-901b-32a65c9463d1"
   },
   "outputs": [
    {
     "data": {
      "text/plain": [
       "array([1, 0, 3, 2, 4, 5], dtype=int64)"
      ]
     },
     "execution_count": 10,
     "metadata": {},
     "output_type": "execute_result"
    }
   ],
   "source": [
    "data['children'].unique()"
   ]
  },
  {
   "cell_type": "markdown",
   "id": "ee3f52d4",
   "metadata": {
    "deletable": false,
    "editable": false,
    "id": "ee3f52d4"
   },
   "source": [
    "### Удаление пропусков (продолжение)"
   ]
  },
  {
   "cell_type": "code",
   "execution_count": 11,
   "id": "61946b83",
   "metadata": {
    "deletable": false,
    "id": "61946b83"
   },
   "outputs": [],
   "source": [
    "for t in data['income_type'].unique():\n",
    "    data.loc[(data['income_type'] == t) & (data['days_employed'].isna()), 'days_employed'] = \\\n",
    "    data.loc[(data['income_type'] == t), 'days_employed'].median()"
   ]
  },
  {
   "cell_type": "code",
   "execution_count": 12,
   "id": "937c7014",
   "metadata": {
    "deletable": false,
    "id": "937c7014",
    "outputId": "8da1e4e1-358e-4e87-98c9-f261bce0a7b2"
   },
   "outputs": [
    {
     "data": {
      "text/plain": [
       "children            0\n",
       "days_employed       0\n",
       "dob_years           0\n",
       "education           0\n",
       "education_id        0\n",
       "family_status       0\n",
       "family_status_id    0\n",
       "gender              0\n",
       "income_type         0\n",
       "debt                0\n",
       "total_income        0\n",
       "purpose             0\n",
       "dtype: int64"
      ]
     },
     "execution_count": 12,
     "metadata": {},
     "output_type": "execute_result"
    }
   ],
   "source": [
    "data.isna().sum()"
   ]
  },
  {
   "cell_type": "markdown",
   "id": "d522e295",
   "metadata": {
    "deletable": false,
    "editable": false,
    "id": "d522e295"
   },
   "source": [
    "### Изменение типов данных"
   ]
  },
  {
   "cell_type": "code",
   "execution_count": 13,
   "id": "31036462",
   "metadata": {
    "deletable": false,
    "id": "31036462"
   },
   "outputs": [],
   "source": [
    "data['total_income'] = data['total_income'].astype(int)"
   ]
  },
  {
   "cell_type": "markdown",
   "id": "b8e3d1d9",
   "metadata": {
    "deletable": false,
    "editable": false,
    "id": "b8e3d1d9"
   },
   "source": [
    "### Обработка дубликатов"
   ]
  },
  {
   "cell_type": "code",
   "execution_count": 14,
   "id": "d89e73e1",
   "metadata": {
    "deletable": false,
    "id": "d89e73e1"
   },
   "outputs": [],
   "source": [
    "data['education'] = data['education'].str.lower()"
   ]
  },
  {
   "cell_type": "code",
   "execution_count": 15,
   "id": "e10efb23",
   "metadata": {
    "deletable": false,
    "id": "e10efb23",
    "outputId": "9684deba-1934-42d1-99e1-cda61740f822"
   },
   "outputs": [
    {
     "data": {
      "text/plain": [
       "71"
      ]
     },
     "execution_count": 15,
     "metadata": {},
     "output_type": "execute_result"
    }
   ],
   "source": [
    "data.duplicated().sum()"
   ]
  },
  {
   "cell_type": "code",
   "execution_count": 16,
   "id": "df853f20",
   "metadata": {
    "deletable": false,
    "id": "df853f20"
   },
   "outputs": [],
   "source": [
    "data = data.drop_duplicates()"
   ]
  },
  {
   "cell_type": "markdown",
   "id": "627be38f",
   "metadata": {
    "deletable": false,
    "editable": false,
    "id": "627be38f"
   },
   "source": [
    "### Категоризация данных"
   ]
  },
  {
   "cell_type": "code",
   "execution_count": 17,
   "id": "78965238",
   "metadata": {
    "deletable": false,
    "id": "78965238"
   },
   "outputs": [],
   "source": [
    "def categorize_income(income):\n",
    "    try:\n",
    "        if 0 <= income <= 30000:\n",
    "            return 'E'\n",
    "        elif 30001 <= income <= 50000:\n",
    "            return 'D'\n",
    "        elif 50001 <= income <= 200000:\n",
    "            return 'C'\n",
    "        elif 200001 <= income <= 1000000:\n",
    "            return 'B'\n",
    "        elif income >= 1000001:\n",
    "            return 'A'\n",
    "    except:\n",
    "        pass"
   ]
  },
  {
   "cell_type": "code",
   "execution_count": 18,
   "id": "0980ada1",
   "metadata": {
    "deletable": false,
    "id": "0980ada1"
   },
   "outputs": [],
   "source": [
    "data['total_income_category'] = data['total_income'].apply(categorize_income)"
   ]
  },
  {
   "cell_type": "code",
   "execution_count": 19,
   "id": "ee07b65e",
   "metadata": {
    "deletable": false,
    "id": "ee07b65e",
    "outputId": "673c12d9-7d7e-4ae0-9812-c622c89dd244"
   },
   "outputs": [
    {
     "data": {
      "text/plain": [
       "array(['покупка жилья', 'приобретение автомобиля',\n",
       "       'дополнительное образование', 'сыграть свадьбу',\n",
       "       'операции с жильем', 'образование', 'на проведение свадьбы',\n",
       "       'покупка жилья для семьи', 'покупка недвижимости',\n",
       "       'покупка коммерческой недвижимости', 'покупка жилой недвижимости',\n",
       "       'строительство собственной недвижимости', 'недвижимость',\n",
       "       'строительство недвижимости', 'на покупку подержанного автомобиля',\n",
       "       'на покупку своего автомобиля',\n",
       "       'операции с коммерческой недвижимостью',\n",
       "       'строительство жилой недвижимости', 'жилье',\n",
       "       'операции со своей недвижимостью', 'автомобили',\n",
       "       'заняться образованием', 'сделка с подержанным автомобилем',\n",
       "       'получение образования', 'автомобиль', 'свадьба',\n",
       "       'получение дополнительного образования', 'покупка своего жилья',\n",
       "       'операции с недвижимостью', 'получение высшего образования',\n",
       "       'свой автомобиль', 'сделка с автомобилем',\n",
       "       'профильное образование', 'высшее образование',\n",
       "       'покупка жилья для сдачи', 'на покупку автомобиля', 'ремонт жилью',\n",
       "       'заняться высшим образованием'], dtype=object)"
      ]
     },
     "execution_count": 19,
     "metadata": {},
     "output_type": "execute_result"
    }
   ],
   "source": [
    "data['purpose'].unique()"
   ]
  },
  {
   "cell_type": "code",
   "execution_count": 20,
   "id": "be41da5d",
   "metadata": {
    "deletable": false,
    "id": "be41da5d"
   },
   "outputs": [],
   "source": [
    "def categorize_purpose(row):\n",
    "    try:\n",
    "        if 'автом' in row:\n",
    "            return 'операции с автомобилем'\n",
    "        elif 'жил' in row or 'недвиж' in row:\n",
    "            return 'операции с недвижимостью'\n",
    "        elif 'свад' in row:\n",
    "            return 'проведение свадьбы'\n",
    "        elif 'образов' in row:\n",
    "            return 'получение образования'\n",
    "    except:\n",
    "        return 'нет категории'"
   ]
  },
  {
   "cell_type": "code",
   "execution_count": 21,
   "id": "94c4a19a",
   "metadata": {
    "deletable": false,
    "id": "94c4a19a"
   },
   "outputs": [],
   "source": [
    "data['purpose_category'] = data['purpose'].apply(categorize_purpose)"
   ]
  },
  {
   "cell_type": "code",
   "execution_count": 22,
   "id": "614f3d91",
   "metadata": {},
   "outputs": [
    {
     "data": {
      "text/html": [
       "<div>\n",
       "<style scoped>\n",
       "    .dataframe tbody tr th:only-of-type {\n",
       "        vertical-align: middle;\n",
       "    }\n",
       "\n",
       "    .dataframe tbody tr th {\n",
       "        vertical-align: top;\n",
       "    }\n",
       "\n",
       "    .dataframe thead th {\n",
       "        text-align: right;\n",
       "    }\n",
       "</style>\n",
       "<table border=\"1\" class=\"dataframe\">\n",
       "  <thead>\n",
       "    <tr style=\"text-align: right;\">\n",
       "      <th></th>\n",
       "      <th>children</th>\n",
       "      <th>days_employed</th>\n",
       "      <th>dob_years</th>\n",
       "      <th>education</th>\n",
       "      <th>education_id</th>\n",
       "      <th>family_status</th>\n",
       "      <th>family_status_id</th>\n",
       "      <th>gender</th>\n",
       "      <th>income_type</th>\n",
       "      <th>debt</th>\n",
       "      <th>total_income</th>\n",
       "      <th>purpose</th>\n",
       "      <th>total_income_category</th>\n",
       "      <th>purpose_category</th>\n",
       "    </tr>\n",
       "  </thead>\n",
       "  <tbody>\n",
       "    <tr>\n",
       "      <th>0</th>\n",
       "      <td>1</td>\n",
       "      <td>8437.673028</td>\n",
       "      <td>42</td>\n",
       "      <td>высшее</td>\n",
       "      <td>0</td>\n",
       "      <td>женат / замужем</td>\n",
       "      <td>0</td>\n",
       "      <td>F</td>\n",
       "      <td>сотрудник</td>\n",
       "      <td>0</td>\n",
       "      <td>253875</td>\n",
       "      <td>покупка жилья</td>\n",
       "      <td>B</td>\n",
       "      <td>операции с недвижимостью</td>\n",
       "    </tr>\n",
       "    <tr>\n",
       "      <th>1</th>\n",
       "      <td>1</td>\n",
       "      <td>4024.803754</td>\n",
       "      <td>36</td>\n",
       "      <td>среднее</td>\n",
       "      <td>1</td>\n",
       "      <td>женат / замужем</td>\n",
       "      <td>0</td>\n",
       "      <td>F</td>\n",
       "      <td>сотрудник</td>\n",
       "      <td>0</td>\n",
       "      <td>112080</td>\n",
       "      <td>приобретение автомобиля</td>\n",
       "      <td>C</td>\n",
       "      <td>операции с автомобилем</td>\n",
       "    </tr>\n",
       "    <tr>\n",
       "      <th>2</th>\n",
       "      <td>0</td>\n",
       "      <td>5623.422610</td>\n",
       "      <td>33</td>\n",
       "      <td>среднее</td>\n",
       "      <td>1</td>\n",
       "      <td>женат / замужем</td>\n",
       "      <td>0</td>\n",
       "      <td>M</td>\n",
       "      <td>сотрудник</td>\n",
       "      <td>0</td>\n",
       "      <td>145885</td>\n",
       "      <td>покупка жилья</td>\n",
       "      <td>C</td>\n",
       "      <td>операции с недвижимостью</td>\n",
       "    </tr>\n",
       "    <tr>\n",
       "      <th>3</th>\n",
       "      <td>3</td>\n",
       "      <td>4124.747207</td>\n",
       "      <td>32</td>\n",
       "      <td>среднее</td>\n",
       "      <td>1</td>\n",
       "      <td>женат / замужем</td>\n",
       "      <td>0</td>\n",
       "      <td>M</td>\n",
       "      <td>сотрудник</td>\n",
       "      <td>0</td>\n",
       "      <td>267628</td>\n",
       "      <td>дополнительное образование</td>\n",
       "      <td>B</td>\n",
       "      <td>получение образования</td>\n",
       "    </tr>\n",
       "    <tr>\n",
       "      <th>4</th>\n",
       "      <td>0</td>\n",
       "      <td>340266.072047</td>\n",
       "      <td>53</td>\n",
       "      <td>среднее</td>\n",
       "      <td>1</td>\n",
       "      <td>гражданский брак</td>\n",
       "      <td>1</td>\n",
       "      <td>F</td>\n",
       "      <td>пенсионер</td>\n",
       "      <td>0</td>\n",
       "      <td>158616</td>\n",
       "      <td>сыграть свадьбу</td>\n",
       "      <td>C</td>\n",
       "      <td>проведение свадьбы</td>\n",
       "    </tr>\n",
       "    <tr>\n",
       "      <th>...</th>\n",
       "      <td>...</td>\n",
       "      <td>...</td>\n",
       "      <td>...</td>\n",
       "      <td>...</td>\n",
       "      <td>...</td>\n",
       "      <td>...</td>\n",
       "      <td>...</td>\n",
       "      <td>...</td>\n",
       "      <td>...</td>\n",
       "      <td>...</td>\n",
       "      <td>...</td>\n",
       "      <td>...</td>\n",
       "      <td>...</td>\n",
       "      <td>...</td>\n",
       "    </tr>\n",
       "    <tr>\n",
       "      <th>21520</th>\n",
       "      <td>1</td>\n",
       "      <td>4529.316663</td>\n",
       "      <td>43</td>\n",
       "      <td>среднее</td>\n",
       "      <td>1</td>\n",
       "      <td>гражданский брак</td>\n",
       "      <td>1</td>\n",
       "      <td>F</td>\n",
       "      <td>компаньон</td>\n",
       "      <td>0</td>\n",
       "      <td>224791</td>\n",
       "      <td>операции с жильем</td>\n",
       "      <td>B</td>\n",
       "      <td>операции с недвижимостью</td>\n",
       "    </tr>\n",
       "    <tr>\n",
       "      <th>21521</th>\n",
       "      <td>0</td>\n",
       "      <td>343937.404131</td>\n",
       "      <td>67</td>\n",
       "      <td>среднее</td>\n",
       "      <td>1</td>\n",
       "      <td>женат / замужем</td>\n",
       "      <td>0</td>\n",
       "      <td>F</td>\n",
       "      <td>пенсионер</td>\n",
       "      <td>0</td>\n",
       "      <td>155999</td>\n",
       "      <td>сделка с автомобилем</td>\n",
       "      <td>C</td>\n",
       "      <td>операции с автомобилем</td>\n",
       "    </tr>\n",
       "    <tr>\n",
       "      <th>21522</th>\n",
       "      <td>1</td>\n",
       "      <td>2113.346888</td>\n",
       "      <td>38</td>\n",
       "      <td>среднее</td>\n",
       "      <td>1</td>\n",
       "      <td>гражданский брак</td>\n",
       "      <td>1</td>\n",
       "      <td>M</td>\n",
       "      <td>сотрудник</td>\n",
       "      <td>1</td>\n",
       "      <td>89672</td>\n",
       "      <td>недвижимость</td>\n",
       "      <td>C</td>\n",
       "      <td>операции с недвижимостью</td>\n",
       "    </tr>\n",
       "    <tr>\n",
       "      <th>21523</th>\n",
       "      <td>3</td>\n",
       "      <td>3112.481705</td>\n",
       "      <td>38</td>\n",
       "      <td>среднее</td>\n",
       "      <td>1</td>\n",
       "      <td>женат / замужем</td>\n",
       "      <td>0</td>\n",
       "      <td>M</td>\n",
       "      <td>сотрудник</td>\n",
       "      <td>1</td>\n",
       "      <td>244093</td>\n",
       "      <td>на покупку своего автомобиля</td>\n",
       "      <td>B</td>\n",
       "      <td>операции с автомобилем</td>\n",
       "    </tr>\n",
       "    <tr>\n",
       "      <th>21524</th>\n",
       "      <td>2</td>\n",
       "      <td>1984.507589</td>\n",
       "      <td>40</td>\n",
       "      <td>среднее</td>\n",
       "      <td>1</td>\n",
       "      <td>женат / замужем</td>\n",
       "      <td>0</td>\n",
       "      <td>F</td>\n",
       "      <td>сотрудник</td>\n",
       "      <td>0</td>\n",
       "      <td>82047</td>\n",
       "      <td>на покупку автомобиля</td>\n",
       "      <td>C</td>\n",
       "      <td>операции с автомобилем</td>\n",
       "    </tr>\n",
       "  </tbody>\n",
       "</table>\n",
       "<p>21331 rows × 14 columns</p>\n",
       "</div>"
      ],
      "text/plain": [
       "       children  days_employed  dob_years education  education_id  \\\n",
       "0             1    8437.673028         42    высшее             0   \n",
       "1             1    4024.803754         36   среднее             1   \n",
       "2             0    5623.422610         33   среднее             1   \n",
       "3             3    4124.747207         32   среднее             1   \n",
       "4             0  340266.072047         53   среднее             1   \n",
       "...         ...            ...        ...       ...           ...   \n",
       "21520         1    4529.316663         43   среднее             1   \n",
       "21521         0  343937.404131         67   среднее             1   \n",
       "21522         1    2113.346888         38   среднее             1   \n",
       "21523         3    3112.481705         38   среднее             1   \n",
       "21524         2    1984.507589         40   среднее             1   \n",
       "\n",
       "          family_status  family_status_id gender income_type  debt  \\\n",
       "0       женат / замужем                 0      F   сотрудник     0   \n",
       "1       женат / замужем                 0      F   сотрудник     0   \n",
       "2       женат / замужем                 0      M   сотрудник     0   \n",
       "3       женат / замужем                 0      M   сотрудник     0   \n",
       "4      гражданский брак                 1      F   пенсионер     0   \n",
       "...                 ...               ...    ...         ...   ...   \n",
       "21520  гражданский брак                 1      F   компаньон     0   \n",
       "21521   женат / замужем                 0      F   пенсионер     0   \n",
       "21522  гражданский брак                 1      M   сотрудник     1   \n",
       "21523   женат / замужем                 0      M   сотрудник     1   \n",
       "21524   женат / замужем                 0      F   сотрудник     0   \n",
       "\n",
       "       total_income                       purpose total_income_category  \\\n",
       "0            253875                 покупка жилья                     B   \n",
       "1            112080       приобретение автомобиля                     C   \n",
       "2            145885                 покупка жилья                     C   \n",
       "3            267628    дополнительное образование                     B   \n",
       "4            158616               сыграть свадьбу                     C   \n",
       "...             ...                           ...                   ...   \n",
       "21520        224791             операции с жильем                     B   \n",
       "21521        155999          сделка с автомобилем                     C   \n",
       "21522         89672                  недвижимость                     C   \n",
       "21523        244093  на покупку своего автомобиля                     B   \n",
       "21524         82047         на покупку автомобиля                     C   \n",
       "\n",
       "               purpose_category  \n",
       "0      операции с недвижимостью  \n",
       "1        операции с автомобилем  \n",
       "2      операции с недвижимостью  \n",
       "3         получение образования  \n",
       "4            проведение свадьбы  \n",
       "...                         ...  \n",
       "21520  операции с недвижимостью  \n",
       "21521    операции с автомобилем  \n",
       "21522  операции с недвижимостью  \n",
       "21523    операции с автомобилем  \n",
       "21524    операции с автомобилем  \n",
       "\n",
       "[21331 rows x 14 columns]"
      ]
     },
     "execution_count": 22,
     "metadata": {},
     "output_type": "execute_result"
    }
   ],
   "source": [
    "data"
   ]
  },
  {
   "cell_type": "markdown",
   "id": "3d596c34",
   "metadata": {
    "deletable": false,
    "editable": false,
    "id": "3d596c34"
   },
   "source": [
    "### Шаг 3. Исследуйте данные и ответьте на вопросы"
   ]
  },
  {
   "cell_type": "code",
   "execution_count": 23,
   "id": "162209b5",
   "metadata": {},
   "outputs": [],
   "source": [
    "def hack_pricticum(x: str, y: str,\n",
    "                   name_title: str, \n",
    "                   name_x: str, \n",
    "                   df: pd.DataFrame= data,\n",
    "                   name_y: str= 'Коэффициент задолженности') -> pd.pivot_table:\n",
    "    \"\"\"Вывод сводной таблицы и столбчатой диаграммы\"\"\"\n",
    "    data_pivot = df.pivot_table(index=[x],\n",
    "                                values=y,\n",
    "                                aggfunc={'sum', 'count'})\n",
    "    data_pivot['koeff'] = data_pivot['sum']/data_pivot['count']\n",
    "    data_pivot = data_pivot.sort_values(by='koeff', ascending=False) \n",
    "    data_pivot = data_pivot.rename(columns={'count': 'total', 'sum': 'debtors'})\n",
    "    display(data_pivot) \n",
    "    plt.figure(figsize = (15,5))\n",
    "    sns.barplot(x=data_pivot.index, y=data_pivot['koeff']).set(\n",
    "        xlabel=name_x, \n",
    "        ylabel=name_y,\n",
    "        title=name_title)\n",
    "    plt.show()"
   ]
  },
  {
   "cell_type": "code",
   "execution_count": 24,
   "id": "18105ad6",
   "metadata": {},
   "outputs": [],
   "source": [
    "HW_DICT = {'3.1 children': ('children', 'debt', 'Коэффициент задолженности в зависимости от количества детей', 'количество детей'),\n",
    "          '3.2 family_status': ('family_status', 'debt', 'Коэффициент задолженности в зависимости от семейного статуса', 'семейный статус'),\n",
    "          '3.3 total_income_category': ('total_income_category', 'debt', 'Коэффициент задолженности в зависимости от категории дохода', 'категория дохода'),\n",
    "          '3.4 purpose_category': ('purpose_category', 'debt', 'Коэффициент задолженности в зависимости от цели', 'Цель'),\n",
    "          'gender':('gender', 'debt', 'Коэффициент задолженности в зависимости от пола', 'пол'),\n",
    "          'education': ('education', 'debt', 'Коэффициент задолженности в зависимости от образования', 'образование'),\n",
    "          'income_type': ('income_type', 'debt', 'Коэффициент задолженности в зависимости от типа дохода', 'тип дохода')}"
   ]
  },
  {
   "cell_type": "code",
   "execution_count": 25,
   "id": "e9a2bf52",
   "metadata": {
    "scrolled": true
   },
   "outputs": [
    {
     "name": "stdout",
     "output_type": "stream",
     "text": [
      "3.1 children\n"
     ]
    },
    {
     "data": {
      "text/html": [
       "<div>\n",
       "<style scoped>\n",
       "    .dataframe tbody tr th:only-of-type {\n",
       "        vertical-align: middle;\n",
       "    }\n",
       "\n",
       "    .dataframe tbody tr th {\n",
       "        vertical-align: top;\n",
       "    }\n",
       "\n",
       "    .dataframe thead th {\n",
       "        text-align: right;\n",
       "    }\n",
       "</style>\n",
       "<table border=\"1\" class=\"dataframe\">\n",
       "  <thead>\n",
       "    <tr style=\"text-align: right;\">\n",
       "      <th></th>\n",
       "      <th>total</th>\n",
       "      <th>debtors</th>\n",
       "      <th>koeff</th>\n",
       "    </tr>\n",
       "    <tr>\n",
       "      <th>children</th>\n",
       "      <th></th>\n",
       "      <th></th>\n",
       "      <th></th>\n",
       "    </tr>\n",
       "  </thead>\n",
       "  <tbody>\n",
       "    <tr>\n",
       "      <th>4</th>\n",
       "      <td>41</td>\n",
       "      <td>4</td>\n",
       "      <td>0.097561</td>\n",
       "    </tr>\n",
       "    <tr>\n",
       "      <th>2</th>\n",
       "      <td>2052</td>\n",
       "      <td>194</td>\n",
       "      <td>0.094542</td>\n",
       "    </tr>\n",
       "    <tr>\n",
       "      <th>1</th>\n",
       "      <td>4808</td>\n",
       "      <td>444</td>\n",
       "      <td>0.092346</td>\n",
       "    </tr>\n",
       "    <tr>\n",
       "      <th>3</th>\n",
       "      <td>330</td>\n",
       "      <td>27</td>\n",
       "      <td>0.081818</td>\n",
       "    </tr>\n",
       "    <tr>\n",
       "      <th>0</th>\n",
       "      <td>14091</td>\n",
       "      <td>1063</td>\n",
       "      <td>0.075438</td>\n",
       "    </tr>\n",
       "    <tr>\n",
       "      <th>5</th>\n",
       "      <td>9</td>\n",
       "      <td>0</td>\n",
       "      <td>0.000000</td>\n",
       "    </tr>\n",
       "  </tbody>\n",
       "</table>\n",
       "</div>"
      ],
      "text/plain": [
       "          total  debtors     koeff\n",
       "children                          \n",
       "4            41        4  0.097561\n",
       "2          2052      194  0.094542\n",
       "1          4808      444  0.092346\n",
       "3           330       27  0.081818\n",
       "0         14091     1063  0.075438\n",
       "5             9        0  0.000000"
      ]
     },
     "metadata": {},
     "output_type": "display_data"
    },
    {
     "data": {
      "image/png": "[encoded data removed]",
      "text/plain": [
       "<Figure size 1500x500 with 1 Axes>"
      ]
     },
     "metadata": {},
     "output_type": "display_data"
    },
    {
     "name": "stdout",
     "output_type": "stream",
     "text": [
      "************************************************************************************************************************\n",
      "3.2 family_status\n"
     ]
    },
    {
     "data": {
      "text/html": [
       "<div>\n",
       "<style scoped>\n",
       "    .dataframe tbody tr th:only-of-type {\n",
       "        vertical-align: middle;\n",
       "    }\n",
       "\n",
       "    .dataframe tbody tr th {\n",
       "        vertical-align: top;\n",
       "    }\n",
       "\n",
       "    .dataframe thead th {\n",
       "        text-align: right;\n",
       "    }\n",
       "</style>\n",
       "<table border=\"1\" class=\"dataframe\">\n",
       "  <thead>\n",
       "    <tr style=\"text-align: right;\">\n",
       "      <th></th>\n",
       "      <th>total</th>\n",
       "      <th>debtors</th>\n",
       "      <th>koeff</th>\n",
       "    </tr>\n",
       "    <tr>\n",
       "      <th>family_status</th>\n",
       "      <th></th>\n",
       "      <th></th>\n",
       "      <th></th>\n",
       "    </tr>\n",
       "  </thead>\n",
       "  <tbody>\n",
       "    <tr>\n",
       "      <th>Не женат / не замужем</th>\n",
       "      <td>2796</td>\n",
       "      <td>273</td>\n",
       "      <td>0.097639</td>\n",
       "    </tr>\n",
       "    <tr>\n",
       "      <th>гражданский брак</th>\n",
       "      <td>4134</td>\n",
       "      <td>385</td>\n",
       "      <td>0.093130</td>\n",
       "    </tr>\n",
       "    <tr>\n",
       "      <th>женат / замужем</th>\n",
       "      <td>12261</td>\n",
       "      <td>927</td>\n",
       "      <td>0.075606</td>\n",
       "    </tr>\n",
       "    <tr>\n",
       "      <th>в разводе</th>\n",
       "      <td>1189</td>\n",
       "      <td>84</td>\n",
       "      <td>0.070648</td>\n",
       "    </tr>\n",
       "    <tr>\n",
       "      <th>вдовец / вдова</th>\n",
       "      <td>951</td>\n",
       "      <td>63</td>\n",
       "      <td>0.066246</td>\n",
       "    </tr>\n",
       "  </tbody>\n",
       "</table>\n",
       "</div>"
      ],
      "text/plain": [
       "                       total  debtors     koeff\n",
       "family_status                                  \n",
       "Не женат / не замужем   2796      273  0.097639\n",
       "гражданский брак        4134      385  0.093130\n",
       "женат / замужем        12261      927  0.075606\n",
       "в разводе               1189       84  0.070648\n",
       "вдовец / вдова           951       63  0.066246"
      ]
     },
     "metadata": {},
     "output_type": "display_data"
    },
    {
     "data": {
      "image/png": "[encoded data removed]",
      "text/plain": [
       "<Figure size 1500x500 with 1 Axes>"
      ]
     },
     "metadata": {},
     "output_type": "display_data"
    },
    {
     "name": "stdout",
     "output_type": "stream",
     "text": [
      "************************************************************************************************************************\n",
      "3.3 total_income_category\n"
     ]
    },
    {
     "data": {
      "text/html": [
       "<div>\n",
       "<style scoped>\n",
       "    .dataframe tbody tr th:only-of-type {\n",
       "        vertical-align: middle;\n",
       "    }\n",
       "\n",
       "    .dataframe tbody tr th {\n",
       "        vertical-align: top;\n",
       "    }\n",
       "\n",
       "    .dataframe thead th {\n",
       "        text-align: right;\n",
       "    }\n",
       "</style>\n",
       "<table border=\"1\" class=\"dataframe\">\n",
       "  <thead>\n",
       "    <tr style=\"text-align: right;\">\n",
       "      <th></th>\n",
       "      <th>total</th>\n",
       "      <th>debtors</th>\n",
       "      <th>koeff</th>\n",
       "    </tr>\n",
       "    <tr>\n",
       "      <th>total_income_category</th>\n",
       "      <th></th>\n",
       "      <th></th>\n",
       "      <th></th>\n",
       "    </tr>\n",
       "  </thead>\n",
       "  <tbody>\n",
       "    <tr>\n",
       "      <th>E</th>\n",
       "      <td>22</td>\n",
       "      <td>2</td>\n",
       "      <td>0.090909</td>\n",
       "    </tr>\n",
       "    <tr>\n",
       "      <th>C</th>\n",
       "      <td>15921</td>\n",
       "      <td>1353</td>\n",
       "      <td>0.084982</td>\n",
       "    </tr>\n",
       "    <tr>\n",
       "      <th>A</th>\n",
       "      <td>25</td>\n",
       "      <td>2</td>\n",
       "      <td>0.080000</td>\n",
       "    </tr>\n",
       "    <tr>\n",
       "      <th>B</th>\n",
       "      <td>5014</td>\n",
       "      <td>354</td>\n",
       "      <td>0.070602</td>\n",
       "    </tr>\n",
       "    <tr>\n",
       "      <th>D</th>\n",
       "      <td>349</td>\n",
       "      <td>21</td>\n",
       "      <td>0.060172</td>\n",
       "    </tr>\n",
       "  </tbody>\n",
       "</table>\n",
       "</div>"
      ],
      "text/plain": [
       "                       total  debtors     koeff\n",
       "total_income_category                          \n",
       "E                         22        2  0.090909\n",
       "C                      15921     1353  0.084982\n",
       "A                         25        2  0.080000\n",
       "B                       5014      354  0.070602\n",
       "D                        349       21  0.060172"
      ]
     },
     "metadata": {},
     "output_type": "display_data"
    },
    {
     "data": {
      "image/png": "[encoded data removed]",
      "text/plain": [
       "<Figure size 1500x500 with 1 Axes>"
      ]
     },
     "metadata": {},
     "output_type": "display_data"
    },
    {
     "name": "stdout",
     "output_type": "stream",
     "text": [
      "************************************************************************************************************************\n",
      "3.4 purpose_category\n"
     ]
    },
    {
     "data": {
      "text/html": [
       "<div>\n",
       "<style scoped>\n",
       "    .dataframe tbody tr th:only-of-type {\n",
       "        vertical-align: middle;\n",
       "    }\n",
       "\n",
       "    .dataframe tbody tr th {\n",
       "        vertical-align: top;\n",
       "    }\n",
       "\n",
       "    .dataframe thead th {\n",
       "        text-align: right;\n",
       "    }\n",
       "</style>\n",
       "<table border=\"1\" class=\"dataframe\">\n",
       "  <thead>\n",
       "    <tr style=\"text-align: right;\">\n",
       "      <th></th>\n",
       "      <th>total</th>\n",
       "      <th>debtors</th>\n",
       "      <th>koeff</th>\n",
       "    </tr>\n",
       "    <tr>\n",
       "      <th>purpose_category</th>\n",
       "      <th></th>\n",
       "      <th></th>\n",
       "      <th></th>\n",
       "    </tr>\n",
       "  </thead>\n",
       "  <tbody>\n",
       "    <tr>\n",
       "      <th>операции с автомобилем</th>\n",
       "      <td>4279</td>\n",
       "      <td>400</td>\n",
       "      <td>0.093480</td>\n",
       "    </tr>\n",
       "    <tr>\n",
       "      <th>получение образования</th>\n",
       "      <td>3988</td>\n",
       "      <td>369</td>\n",
       "      <td>0.092528</td>\n",
       "    </tr>\n",
       "    <tr>\n",
       "      <th>проведение свадьбы</th>\n",
       "      <td>2313</td>\n",
       "      <td>183</td>\n",
       "      <td>0.079118</td>\n",
       "    </tr>\n",
       "    <tr>\n",
       "      <th>операции с недвижимостью</th>\n",
       "      <td>10751</td>\n",
       "      <td>780</td>\n",
       "      <td>0.072551</td>\n",
       "    </tr>\n",
       "  </tbody>\n",
       "</table>\n",
       "</div>"
      ],
      "text/plain": [
       "                          total  debtors     koeff\n",
       "purpose_category                                  \n",
       "операции с автомобилем     4279      400  0.093480\n",
       "получение образования      3988      369  0.092528\n",
       "проведение свадьбы         2313      183  0.079118\n",
       "операции с недвижимостью  10751      780  0.072551"
      ]
     },
     "metadata": {},
     "output_type": "display_data"
    },
    {
     "data": {
      "image/png": "[encoded data removed]",
      "text/plain": [
       "<Figure size 1500x500 with 1 Axes>"
      ]
     },
     "metadata": {},
     "output_type": "display_data"
    },
    {
     "name": "stdout",
     "output_type": "stream",
     "text": [
      "************************************************************************************************************************\n",
      "gender\n"
     ]
    },
    {
     "data": {
      "text/html": [
       "<div>\n",
       "<style scoped>\n",
       "    .dataframe tbody tr th:only-of-type {\n",
       "        vertical-align: middle;\n",
       "    }\n",
       "\n",
       "    .dataframe tbody tr th {\n",
       "        vertical-align: top;\n",
       "    }\n",
       "\n",
       "    .dataframe thead th {\n",
       "        text-align: right;\n",
       "    }\n",
       "</style>\n",
       "<table border=\"1\" class=\"dataframe\">\n",
       "  <thead>\n",
       "    <tr style=\"text-align: right;\">\n",
       "      <th></th>\n",
       "      <th>total</th>\n",
       "      <th>debtors</th>\n",
       "      <th>koeff</th>\n",
       "    </tr>\n",
       "    <tr>\n",
       "      <th>gender</th>\n",
       "      <th></th>\n",
       "      <th></th>\n",
       "      <th></th>\n",
       "    </tr>\n",
       "  </thead>\n",
       "  <tbody>\n",
       "    <tr>\n",
       "      <th>M</th>\n",
       "      <td>7238</td>\n",
       "      <td>743</td>\n",
       "      <td>0.102653</td>\n",
       "    </tr>\n",
       "    <tr>\n",
       "      <th>F</th>\n",
       "      <td>14092</td>\n",
       "      <td>989</td>\n",
       "      <td>0.070182</td>\n",
       "    </tr>\n",
       "    <tr>\n",
       "      <th>XNA</th>\n",
       "      <td>1</td>\n",
       "      <td>0</td>\n",
       "      <td>0.000000</td>\n",
       "    </tr>\n",
       "  </tbody>\n",
       "</table>\n",
       "</div>"
      ],
      "text/plain": [
       "        total  debtors     koeff\n",
       "gender                          \n",
       "M        7238      743  0.102653\n",
       "F       14092      989  0.070182\n",
       "XNA         1        0  0.000000"
      ]
     },
     "metadata": {},
     "output_type": "display_data"
    },
    {
     "data": {
      "image/png": "[encoded data removed]",
      "text/plain": [
       "<Figure size 1500x500 with 1 Axes>"
      ]
     },
     "metadata": {},
     "output_type": "display_data"
    },
    {
     "name": "stdout",
     "output_type": "stream",
     "text": [
      "************************************************************************************************************************\n",
      "education\n"
     ]
    },
    {
     "data": {
      "text/html": [
       "<div>\n",
       "<style scoped>\n",
       "    .dataframe tbody tr th:only-of-type {\n",
       "        vertical-align: middle;\n",
       "    }\n",
       "\n",
       "    .dataframe tbody tr th {\n",
       "        vertical-align: top;\n",
       "    }\n",
       "\n",
       "    .dataframe thead th {\n",
       "        text-align: right;\n",
       "    }\n",
       "</style>\n",
       "<table border=\"1\" class=\"dataframe\">\n",
       "  <thead>\n",
       "    <tr style=\"text-align: right;\">\n",
       "      <th></th>\n",
       "      <th>total</th>\n",
       "      <th>debtors</th>\n",
       "      <th>koeff</th>\n",
       "    </tr>\n",
       "    <tr>\n",
       "      <th>education</th>\n",
       "      <th></th>\n",
       "      <th></th>\n",
       "      <th></th>\n",
       "    </tr>\n",
       "  </thead>\n",
       "  <tbody>\n",
       "    <tr>\n",
       "      <th>начальное</th>\n",
       "      <td>282</td>\n",
       "      <td>31</td>\n",
       "      <td>0.109929</td>\n",
       "    </tr>\n",
       "    <tr>\n",
       "      <th>неоконченное высшее</th>\n",
       "      <td>741</td>\n",
       "      <td>68</td>\n",
       "      <td>0.091768</td>\n",
       "    </tr>\n",
       "    <tr>\n",
       "      <th>среднее</th>\n",
       "      <td>15075</td>\n",
       "      <td>1355</td>\n",
       "      <td>0.089884</td>\n",
       "    </tr>\n",
       "    <tr>\n",
       "      <th>высшее</th>\n",
       "      <td>5227</td>\n",
       "      <td>278</td>\n",
       "      <td>0.053185</td>\n",
       "    </tr>\n",
       "    <tr>\n",
       "      <th>ученая степень</th>\n",
       "      <td>6</td>\n",
       "      <td>0</td>\n",
       "      <td>0.000000</td>\n",
       "    </tr>\n",
       "  </tbody>\n",
       "</table>\n",
       "</div>"
      ],
      "text/plain": [
       "                     total  debtors     koeff\n",
       "education                                    \n",
       "начальное              282       31  0.109929\n",
       "неоконченное высшее    741       68  0.091768\n",
       "среднее              15075     1355  0.089884\n",
       "высшее                5227      278  0.053185\n",
       "ученая степень           6        0  0.000000"
      ]
     },
     "metadata": {},
     "output_type": "display_data"
    },
    {
     "data": {
      "image/png": "[encoded data removed]",
      "text/plain": [
       "<Figure size 1500x500 with 1 Axes>"
      ]
     },
     "metadata": {},
     "output_type": "display_data"
    },
    {
     "name": "stdout",
     "output_type": "stream",
     "text": [
      "************************************************************************************************************************\n",
      "income_type\n"
     ]
    },
    {
     "data": {
      "text/html": [
       "<div>\n",
       "<style scoped>\n",
       "    .dataframe tbody tr th:only-of-type {\n",
       "        vertical-align: middle;\n",
       "    }\n",
       "\n",
       "    .dataframe tbody tr th {\n",
       "        vertical-align: top;\n",
       "    }\n",
       "\n",
       "    .dataframe thead th {\n",
       "        text-align: right;\n",
       "    }\n",
       "</style>\n",
       "<table border=\"1\" class=\"dataframe\">\n",
       "  <thead>\n",
       "    <tr style=\"text-align: right;\">\n",
       "      <th></th>\n",
       "      <th>total</th>\n",
       "      <th>debtors</th>\n",
       "      <th>koeff</th>\n",
       "    </tr>\n",
       "    <tr>\n",
       "      <th>income_type</th>\n",
       "      <th></th>\n",
       "      <th></th>\n",
       "      <th></th>\n",
       "    </tr>\n",
       "  </thead>\n",
       "  <tbody>\n",
       "    <tr>\n",
       "      <th>в декрете</th>\n",
       "      <td>1</td>\n",
       "      <td>1</td>\n",
       "      <td>1.000000</td>\n",
       "    </tr>\n",
       "    <tr>\n",
       "      <th>безработный</th>\n",
       "      <td>2</td>\n",
       "      <td>1</td>\n",
       "      <td>0.500000</td>\n",
       "    </tr>\n",
       "    <tr>\n",
       "      <th>сотрудник</th>\n",
       "      <td>11015</td>\n",
       "      <td>1054</td>\n",
       "      <td>0.095688</td>\n",
       "    </tr>\n",
       "    <tr>\n",
       "      <th>компаньон</th>\n",
       "      <td>5047</td>\n",
       "      <td>374</td>\n",
       "      <td>0.074103</td>\n",
       "    </tr>\n",
       "    <tr>\n",
       "      <th>госслужащий</th>\n",
       "      <td>1451</td>\n",
       "      <td>86</td>\n",
       "      <td>0.059269</td>\n",
       "    </tr>\n",
       "    <tr>\n",
       "      <th>пенсионер</th>\n",
       "      <td>3812</td>\n",
       "      <td>216</td>\n",
       "      <td>0.056663</td>\n",
       "    </tr>\n",
       "    <tr>\n",
       "      <th>предприниматель</th>\n",
       "      <td>2</td>\n",
       "      <td>0</td>\n",
       "      <td>0.000000</td>\n",
       "    </tr>\n",
       "    <tr>\n",
       "      <th>студент</th>\n",
       "      <td>1</td>\n",
       "      <td>0</td>\n",
       "      <td>0.000000</td>\n",
       "    </tr>\n",
       "  </tbody>\n",
       "</table>\n",
       "</div>"
      ],
      "text/plain": [
       "                 total  debtors     koeff\n",
       "income_type                              \n",
       "в декрете            1        1  1.000000\n",
       "безработный          2        1  0.500000\n",
       "сотрудник        11015     1054  0.095688\n",
       "компаньон         5047      374  0.074103\n",
       "госслужащий       1451       86  0.059269\n",
       "пенсионер         3812      216  0.056663\n",
       "предприниматель      2        0  0.000000\n",
       "студент              1        0  0.000000"
      ]
     },
     "metadata": {},
     "output_type": "display_data"
    },
    {
     "data": {
      "image/png": "[encoded data removed]",
      "text/plain": [
       "<Figure size 1500x500 with 1 Axes>"
      ]
     },
     "metadata": {},
     "output_type": "display_data"
    },
    {
     "name": "stdout",
     "output_type": "stream",
     "text": [
      "************************************************************************************************************************\n"
     ]
    }
   ],
   "source": [
    "for key in HW_DICT:\n",
    "    print(key)\n",
    "    hack_pricticum(*HW_DICT[key])\n",
    "    print('*'*120)"
   ]
  },
  {
   "cell_type": "markdown",
   "id": "2eb9088e",
   "metadata": {
    "deletable": false,
    "id": "2eb9088e"
   },
   "source": [
    "**Вывод:**\n",
    "\n",
    "1. Можно отметить, что люди без детей наиболее ответственные заемщики. Данных по многодетным недостаточно для корректных выводов по ним.\n",
    "2. По приведенным выше графикам видно, что наиболее ответственными должниками являются вдовцы и вдовы, однако по этой категории для обоснованных выводов слишком мало данных, поэтому отметим, что всего лишь в 7% всех случаев женатые/замужем имели задолженность.\n",
    "3. Делать выводы представляется разумным по двум наибольшим категориям (В и С). Сравнивая из, можем увидеть, что отдавать предпочтение стоит первой.\n",
    "4. Ипотечный рынок остается самым надежным, несмотря на события 2008 года. В то время как рынок автомобильного кредитования выглядит наиболее рискованным."
   ]
  },
  {
   "cell_type": "markdown",
   "id": "1ab75d1c",
   "metadata": {
    "deletable": false,
    "id": "1ab75d1c"
   },
   "source": [
    "**Общий вывод:** \n",
    "В рамках анализа были выявлены следующие зависимости: люди без детей более отвественные, чем с, причем важным замечанием является то, что по многодетным семьям недостаточно данных, женатые/замужные предпочтительнее, чем люди в поиске, стоит также отметить, что люди с категорией доходов В более надежны в плане кредитования, самая надежная цель кредитования - ипотека\n",
    "На основе написанного выше, можно описать портрет идеального клиента: женщина, замужем, с высшим образование, сотрудник (компаньен или госслужащая), без детей, хочет взять ипотеку.\n",
    "Работа над данными: предобработка (работа с пропусками, поиск и удаление дубликатов), построение сводных таблиц и столбчатых диаграмм по ним."
   ]
  }
 ],
 "metadata": {
  "ExecuteTimeLog": [
   {
    "duration": 561,
    "start_time": "2023-02-10T16:12:56.416Z"
   },
   {
    "duration": 25,
    "start_time": "2023-02-10T16:12:56.979Z"
   },
   {
    "duration": 17,
    "start_time": "2023-02-10T16:12:57.006Z"
   },
   {
    "duration": 30,
    "start_time": "2023-02-10T16:12:57.025Z"
   },
   {
    "duration": 38,
    "start_time": "2023-02-10T16:12:57.058Z"
   },
   {
    "duration": 4,
    "start_time": "2023-02-10T16:12:57.098Z"
   },
   {
    "duration": 11,
    "start_time": "2023-02-10T16:12:57.104Z"
   },
   {
    "duration": 7,
    "start_time": "2023-02-10T16:12:57.141Z"
   },
   {
    "duration": 17,
    "start_time": "2023-02-10T16:12:57.150Z"
   },
   {
    "duration": 7,
    "start_time": "2023-02-10T16:12:57.169Z"
   },
   {
    "duration": 38,
    "start_time": "2023-02-10T16:12:57.178Z"
   },
   {
    "duration": 31,
    "start_time": "2023-02-10T16:12:57.218Z"
   },
   {
    "duration": 6,
    "start_time": "2023-02-10T16:12:57.250Z"
   },
   {
    "duration": 12,
    "start_time": "2023-02-10T16:12:57.260Z"
   },
   {
    "duration": 25,
    "start_time": "2023-02-10T16:12:57.274Z"
   },
   {
    "duration": 41,
    "start_time": "2023-02-10T16:12:57.300Z"
   },
   {
    "duration": 5,
    "start_time": "2023-02-10T16:12:57.343Z"
   },
   {
    "duration": 18,
    "start_time": "2023-02-10T16:12:57.350Z"
   },
   {
    "duration": 7,
    "start_time": "2023-02-10T16:12:57.370Z"
   },
   {
    "duration": 9,
    "start_time": "2023-02-10T16:12:57.379Z"
   },
   {
    "duration": 11,
    "start_time": "2023-02-10T16:12:57.390Z"
   },
   {
    "duration": 41,
    "start_time": "2023-02-10T16:12:57.403Z"
   },
   {
    "duration": 3,
    "start_time": "2023-02-10T16:12:57.445Z"
   },
   {
    "duration": 10,
    "start_time": "2023-02-10T16:12:57.451Z"
   },
   {
    "duration": 6,
    "start_time": "2023-02-10T16:12:57.463Z"
   },
   {
    "duration": 6,
    "start_time": "2023-02-10T16:12:57.471Z"
   },
   {
    "duration": 8,
    "start_time": "2023-02-10T18:47:30.520Z"
   },
   {
    "duration": 42,
    "start_time": "2023-02-10T18:48:40.126Z"
   },
   {
    "duration": 1093,
    "start_time": "2023-02-10T18:48:48.989Z"
   },
   {
    "duration": 28,
    "start_time": "2023-02-10T18:48:50.084Z"
   },
   {
    "duration": 21,
    "start_time": "2023-02-10T18:48:50.113Z"
   },
   {
    "duration": 8,
    "start_time": "2023-02-10T18:48:50.137Z"
   },
   {
    "duration": 45,
    "start_time": "2023-02-10T18:48:50.147Z"
   },
   {
    "duration": 5,
    "start_time": "2023-02-10T18:48:50.194Z"
   },
   {
    "duration": 30,
    "start_time": "2023-02-10T18:48:50.201Z"
   },
   {
    "duration": 16,
    "start_time": "2023-02-10T18:48:50.233Z"
   },
   {
    "duration": 17,
    "start_time": "2023-02-10T18:48:50.251Z"
   },
   {
    "duration": 7,
    "start_time": "2023-02-10T18:48:50.271Z"
   },
   {
    "duration": 40,
    "start_time": "2023-02-10T18:48:50.280Z"
   },
   {
    "duration": 9,
    "start_time": "2023-02-10T18:48:50.322Z"
   },
   {
    "duration": 6,
    "start_time": "2023-02-10T18:48:50.332Z"
   },
   {
    "duration": 14,
    "start_time": "2023-02-10T18:48:50.340Z"
   },
   {
    "duration": 20,
    "start_time": "2023-02-10T18:48:50.355Z"
   },
   {
    "duration": 29,
    "start_time": "2023-02-10T18:48:50.376Z"
   },
   {
    "duration": 3,
    "start_time": "2023-02-10T18:48:50.407Z"
   },
   {
    "duration": 12,
    "start_time": "2023-02-10T18:48:50.412Z"
   },
   {
    "duration": 5,
    "start_time": "2023-02-10T18:48:50.426Z"
   },
   {
    "duration": 15,
    "start_time": "2023-02-10T18:48:50.433Z"
   },
   {
    "duration": 14,
    "start_time": "2023-02-10T18:48:50.450Z"
   },
   {
    "duration": 38,
    "start_time": "2023-02-10T18:48:50.465Z"
   },
   {
    "duration": 16,
    "start_time": "2023-02-10T18:48:50.505Z"
   },
   {
    "duration": 33,
    "start_time": "2023-02-10T18:48:50.523Z"
   },
   {
    "duration": 0,
    "start_time": "2023-02-10T18:48:50.557Z"
   },
   {
    "duration": 0,
    "start_time": "2023-02-10T18:48:50.558Z"
   },
   {
    "duration": 0,
    "start_time": "2023-02-10T18:48:50.559Z"
   },
   {
    "duration": 4,
    "start_time": "2023-02-10T18:49:07.537Z"
   },
   {
    "duration": 1287,
    "start_time": "2023-02-10T18:49:15.220Z"
   },
   {
    "duration": 383,
    "start_time": "2023-02-10T18:50:16.565Z"
   },
   {
    "duration": 3,
    "start_time": "2023-02-10T18:52:32.235Z"
   },
   {
    "duration": 212,
    "start_time": "2023-02-10T18:52:34.108Z"
   },
   {
    "duration": 3,
    "start_time": "2023-02-10T18:52:43.940Z"
   },
   {
    "duration": 393,
    "start_time": "2023-02-10T18:52:45.322Z"
   },
   {
    "duration": 5,
    "start_time": "2023-02-10T18:55:49.604Z"
   },
   {
    "duration": 4,
    "start_time": "2023-02-10T18:56:50.041Z"
   },
   {
    "duration": 29,
    "start_time": "2023-02-10T18:56:56.488Z"
   },
   {
    "duration": 3,
    "start_time": "2023-02-10T18:57:12.115Z"
   },
   {
    "duration": 5,
    "start_time": "2023-02-10T18:57:33.170Z"
   },
   {
    "duration": 4,
    "start_time": "2023-02-10T18:58:00.813Z"
   },
   {
    "duration": 368,
    "start_time": "2023-02-10T19:03:03.594Z"
   },
   {
    "duration": 3,
    "start_time": "2023-02-10T19:14:28.595Z"
   },
   {
    "duration": 3,
    "start_time": "2023-02-10T19:19:59.421Z"
   },
   {
    "duration": 4,
    "start_time": "2023-02-10T19:21:01.828Z"
   },
   {
    "duration": 60,
    "start_time": "2023-02-10T19:23:05.983Z"
   },
   {
    "duration": 130,
    "start_time": "2023-02-10T19:23:25.685Z"
   },
   {
    "duration": 4,
    "start_time": "2023-02-10T19:28:22.706Z"
   },
   {
    "duration": 158,
    "start_time": "2023-02-10T19:28:26.446Z"
   },
   {
    "duration": 6,
    "start_time": "2023-02-10T19:38:13.201Z"
   },
   {
    "duration": 9,
    "start_time": "2023-02-10T19:38:54.321Z"
   },
   {
    "duration": 4,
    "start_time": "2023-02-10T19:39:01.342Z"
   },
   {
    "duration": 142,
    "start_time": "2023-02-10T19:39:04.368Z"
   },
   {
    "duration": 76,
    "start_time": "2023-02-10T19:40:12.289Z"
   },
   {
    "duration": 75,
    "start_time": "2023-02-10T19:40:34.059Z"
   },
   {
    "duration": 4,
    "start_time": "2023-02-10T19:41:03.673Z"
   },
   {
    "duration": 5,
    "start_time": "2023-02-10T19:41:22.182Z"
   },
   {
    "duration": 3,
    "start_time": "2023-02-10T19:41:25.940Z"
   },
   {
    "duration": 222,
    "start_time": "2023-02-10T19:41:30.701Z"
   },
   {
    "duration": 3,
    "start_time": "2023-02-10T19:42:59.251Z"
   },
   {
    "duration": 155,
    "start_time": "2023-02-10T19:43:06.144Z"
   },
   {
    "duration": 219,
    "start_time": "2023-02-10T19:49:20.061Z"
   },
   {
    "duration": 3,
    "start_time": "2023-02-10T19:49:47.712Z"
   },
   {
    "duration": 262,
    "start_time": "2023-02-10T19:49:49.266Z"
   },
   {
    "duration": 303,
    "start_time": "2023-02-10T19:50:23.599Z"
   },
   {
    "duration": 142,
    "start_time": "2023-02-10T19:50:42.226Z"
   },
   {
    "duration": 156,
    "start_time": "2023-02-10T19:51:41.904Z"
   },
   {
    "duration": 175,
    "start_time": "2023-02-10T19:51:48.788Z"
   },
   {
    "duration": 139,
    "start_time": "2023-02-10T19:51:54.472Z"
   },
   {
    "duration": 5,
    "start_time": "2023-02-10T20:04:07.350Z"
   },
   {
    "duration": 175,
    "start_time": "2023-02-10T20:04:13.120Z"
   },
   {
    "duration": 5,
    "start_time": "2023-02-10T20:04:54.037Z"
   },
   {
    "duration": 148,
    "start_time": "2023-02-10T20:05:03.037Z"
   },
   {
    "duration": 6,
    "start_time": "2023-02-10T20:21:15.885Z"
   },
   {
    "duration": 4,
    "start_time": "2023-02-10T20:21:18.339Z"
   },
   {
    "duration": 33,
    "start_time": "2023-02-10T20:21:20.650Z"
   },
   {
    "duration": 10,
    "start_time": "2023-02-10T20:21:45.690Z"
   },
   {
    "duration": 4,
    "start_time": "2023-02-10T20:21:48.271Z"
   },
   {
    "duration": 239,
    "start_time": "2023-02-10T20:21:49.856Z"
   },
   {
    "duration": 663,
    "start_time": "2023-02-11T14:55:11.694Z"
   },
   {
    "duration": 24,
    "start_time": "2023-02-11T14:55:12.365Z"
   },
   {
    "duration": 27,
    "start_time": "2023-02-11T14:55:12.390Z"
   },
   {
    "duration": 31,
    "start_time": "2023-02-11T14:55:12.419Z"
   },
   {
    "duration": 42,
    "start_time": "2023-02-11T14:55:12.462Z"
   },
   {
    "duration": 4,
    "start_time": "2023-02-11T14:55:12.505Z"
   },
   {
    "duration": 14,
    "start_time": "2023-02-11T14:55:12.511Z"
   },
   {
    "duration": 9,
    "start_time": "2023-02-11T14:55:12.526Z"
   },
   {
    "duration": 53,
    "start_time": "2023-02-11T14:55:12.536Z"
   },
   {
    "duration": 4,
    "start_time": "2023-02-11T14:55:12.591Z"
   },
   {
    "duration": 50,
    "start_time": "2023-02-11T14:55:12.597Z"
   },
   {
    "duration": 29,
    "start_time": "2023-02-11T14:55:12.651Z"
   },
   {
    "duration": 5,
    "start_time": "2023-02-11T14:55:12.682Z"
   },
   {
    "duration": 17,
    "start_time": "2023-02-11T14:55:12.689Z"
   },
   {
    "duration": 34,
    "start_time": "2023-02-11T14:55:12.707Z"
   },
   {
    "duration": 23,
    "start_time": "2023-02-11T14:55:12.745Z"
   },
   {
    "duration": 15,
    "start_time": "2023-02-11T14:55:12.773Z"
   },
   {
    "duration": 23,
    "start_time": "2023-02-11T14:55:12.790Z"
   },
   {
    "duration": 24,
    "start_time": "2023-02-11T14:55:12.815Z"
   },
   {
    "duration": 57,
    "start_time": "2023-02-11T14:55:12.841Z"
   },
   {
    "duration": 82,
    "start_time": "2023-02-11T14:55:12.900Z"
   },
   {
    "duration": 74,
    "start_time": "2023-02-11T14:55:12.985Z"
   },
   {
    "duration": 7,
    "start_time": "2023-02-11T14:55:13.060Z"
   },
   {
    "duration": 20,
    "start_time": "2023-02-11T14:55:13.072Z"
   },
   {
    "duration": 1531,
    "start_time": "2023-02-11T14:55:13.095Z"
   },
   {
    "duration": 209,
    "start_time": "2023-02-11T14:55:14.639Z"
   },
   {
    "duration": 204,
    "start_time": "2023-02-11T14:55:14.850Z"
   },
   {
    "duration": 235,
    "start_time": "2023-02-11T14:55:15.060Z"
   },
   {
    "duration": 78,
    "start_time": "2023-02-12T10:14:20.920Z"
   },
   {
    "duration": 19,
    "start_time": "2023-02-12T10:14:21.001Z"
   },
   {
    "duration": 44,
    "start_time": "2023-02-12T10:14:21.022Z"
   },
   {
    "duration": 12,
    "start_time": "2023-02-12T10:14:21.069Z"
   },
   {
    "duration": 35,
    "start_time": "2023-02-12T10:14:21.083Z"
   },
   {
    "duration": 3,
    "start_time": "2023-02-12T10:14:21.120Z"
   },
   {
    "duration": 34,
    "start_time": "2023-02-12T10:14:21.125Z"
   },
   {
    "duration": 5,
    "start_time": "2023-02-12T10:14:21.161Z"
   },
   {
    "duration": 8,
    "start_time": "2023-02-12T10:14:21.168Z"
   },
   {
    "duration": 5,
    "start_time": "2023-02-12T10:14:21.178Z"
   },
   {
    "duration": 37,
    "start_time": "2023-02-12T10:14:21.184Z"
   },
   {
    "duration": 34,
    "start_time": "2023-02-12T10:14:21.223Z"
   },
   {
    "duration": 3,
    "start_time": "2023-02-12T10:14:21.259Z"
   },
   {
    "duration": 12,
    "start_time": "2023-02-12T10:14:21.263Z"
   },
   {
    "duration": 16,
    "start_time": "2023-02-12T10:14:21.277Z"
   },
   {
    "duration": 17,
    "start_time": "2023-02-12T10:14:21.295Z"
   },
   {
    "duration": 39,
    "start_time": "2023-02-12T10:14:21.314Z"
   },
   {
    "duration": 12,
    "start_time": "2023-02-12T10:14:21.355Z"
   },
   {
    "duration": 8,
    "start_time": "2023-02-12T10:14:21.368Z"
   },
   {
    "duration": 3,
    "start_time": "2023-02-12T10:14:21.377Z"
   },
   {
    "duration": 9,
    "start_time": "2023-02-12T10:14:21.382Z"
   },
   {
    "duration": 23,
    "start_time": "2023-02-12T10:14:21.393Z"
   },
   {
    "duration": 4,
    "start_time": "2023-02-12T10:14:21.418Z"
   },
   {
    "duration": 35,
    "start_time": "2023-02-12T10:14:21.424Z"
   },
   {
    "duration": 1240,
    "start_time": "2023-02-12T10:14:21.460Z"
   },
   {
    "duration": 8,
    "start_time": "2023-02-12T10:14:22.701Z"
   },
   {
    "duration": 0,
    "start_time": "2023-02-12T10:14:22.713Z"
   },
   {
    "duration": 0,
    "start_time": "2023-02-12T10:14:22.714Z"
   },
   {
    "duration": 0,
    "start_time": "2023-02-12T10:14:22.716Z"
   },
   {
    "duration": 3,
    "start_time": "2023-02-12T10:15:22.325Z"
   },
   {
    "duration": 5,
    "start_time": "2023-02-12T10:16:52.531Z"
   },
   {
    "duration": 4,
    "start_time": "2023-02-12T10:16:54.955Z"
   },
   {
    "duration": 1306,
    "start_time": "2023-02-12T10:16:56.718Z"
   },
   {
    "duration": 1262,
    "start_time": "2023-02-12T10:17:17.706Z"
   },
   {
    "duration": 1262,
    "start_time": "2023-02-12T10:17:27.038Z"
   },
   {
    "duration": 1178,
    "start_time": "2023-02-12T10:17:43.518Z"
   },
   {
    "duration": 5,
    "start_time": "2023-02-12T10:35:32.443Z"
   },
   {
    "duration": 3,
    "start_time": "2023-02-12T10:35:34.972Z"
   },
   {
    "duration": 1380,
    "start_time": "2023-02-12T10:35:36.279Z"
   },
   {
    "duration": 71,
    "start_time": "2023-02-12T10:35:43.739Z"
   },
   {
    "duration": 15,
    "start_time": "2023-02-12T10:35:43.812Z"
   },
   {
    "duration": 32,
    "start_time": "2023-02-12T10:35:43.829Z"
   },
   {
    "duration": 9,
    "start_time": "2023-02-12T10:35:43.863Z"
   },
   {
    "duration": 36,
    "start_time": "2023-02-12T10:35:43.874Z"
   },
   {
    "duration": 3,
    "start_time": "2023-02-12T10:35:43.912Z"
   },
   {
    "duration": 18,
    "start_time": "2023-02-12T10:35:43.917Z"
   },
   {
    "duration": 5,
    "start_time": "2023-02-12T10:35:43.954Z"
   },
   {
    "duration": 11,
    "start_time": "2023-02-12T10:35:43.961Z"
   },
   {
    "duration": 6,
    "start_time": "2023-02-12T10:35:43.976Z"
   },
   {
    "duration": 37,
    "start_time": "2023-02-12T10:35:43.984Z"
   },
   {
    "duration": 31,
    "start_time": "2023-02-12T10:35:44.023Z"
   },
   {
    "duration": 4,
    "start_time": "2023-02-12T10:35:44.056Z"
   },
   {
    "duration": 15,
    "start_time": "2023-02-12T10:35:44.061Z"
   },
   {
    "duration": 17,
    "start_time": "2023-02-12T10:35:44.077Z"
   },
   {
    "duration": 16,
    "start_time": "2023-02-12T10:35:44.096Z"
   },
   {
    "duration": 2,
    "start_time": "2023-02-12T10:35:44.114Z"
   },
   {
    "duration": 35,
    "start_time": "2023-02-12T10:35:44.118Z"
   },
   {
    "duration": 7,
    "start_time": "2023-02-12T10:35:44.155Z"
   },
   {
    "duration": 4,
    "start_time": "2023-02-12T10:35:44.163Z"
   },
   {
    "duration": 11,
    "start_time": "2023-02-12T10:35:44.168Z"
   },
   {
    "duration": 23,
    "start_time": "2023-02-12T10:35:44.181Z"
   },
   {
    "duration": 5,
    "start_time": "2023-02-12T10:35:44.206Z"
   },
   {
    "duration": 8,
    "start_time": "2023-02-12T10:35:44.213Z"
   },
   {
    "duration": 1293,
    "start_time": "2023-02-12T10:35:44.253Z"
   },
   {
    "duration": 5,
    "start_time": "2023-02-12T10:35:45.548Z"
   },
   {
    "duration": 4,
    "start_time": "2023-02-12T10:35:45.555Z"
   },
   {
    "duration": 3,
    "start_time": "2023-02-12T10:35:45.562Z"
   },
   {
    "duration": 10,
    "start_time": "2023-02-12T10:35:45.567Z"
   },
   {
    "duration": 1162,
    "start_time": "2023-02-12T11:26:59.150Z"
   },
   {
    "duration": 19,
    "start_time": "2023-02-12T11:27:00.314Z"
   },
   {
    "duration": 33,
    "start_time": "2023-02-12T11:27:00.334Z"
   },
   {
    "duration": 10,
    "start_time": "2023-02-12T11:27:00.369Z"
   },
   {
    "duration": 59,
    "start_time": "2023-02-12T11:27:00.380Z"
   },
   {
    "duration": 3,
    "start_time": "2023-02-12T11:27:00.441Z"
   },
   {
    "duration": 30,
    "start_time": "2023-02-12T11:27:00.446Z"
   },
   {
    "duration": 8,
    "start_time": "2023-02-12T11:27:00.478Z"
   },
   {
    "duration": 38,
    "start_time": "2023-02-12T11:27:00.487Z"
   },
   {
    "duration": 23,
    "start_time": "2023-02-12T11:27:00.527Z"
   },
   {
    "duration": 67,
    "start_time": "2023-02-12T11:27:00.552Z"
   },
   {
    "duration": 9,
    "start_time": "2023-02-12T11:27:00.621Z"
   },
   {
    "duration": 28,
    "start_time": "2023-02-12T11:27:00.631Z"
   },
   {
    "duration": 25,
    "start_time": "2023-02-12T11:27:00.661Z"
   },
   {
    "duration": 54,
    "start_time": "2023-02-12T11:27:00.688Z"
   },
   {
    "duration": 24,
    "start_time": "2023-02-12T11:27:00.744Z"
   },
   {
    "duration": 23,
    "start_time": "2023-02-12T11:27:00.769Z"
   },
   {
    "duration": 42,
    "start_time": "2023-02-12T11:27:00.793Z"
   },
   {
    "duration": 33,
    "start_time": "2023-02-12T11:27:00.837Z"
   },
   {
    "duration": 29,
    "start_time": "2023-02-12T11:27:00.872Z"
   },
   {
    "duration": 40,
    "start_time": "2023-02-12T11:27:00.902Z"
   },
   {
    "duration": 43,
    "start_time": "2023-02-12T11:27:00.944Z"
   },
   {
    "duration": 38,
    "start_time": "2023-02-12T11:27:00.989Z"
   },
   {
    "duration": 26,
    "start_time": "2023-02-12T11:27:01.028Z"
   },
   {
    "duration": 1150,
    "start_time": "2023-02-12T11:27:01.055Z"
   },
   {
    "duration": 3,
    "start_time": "2023-02-12T11:27:02.206Z"
   },
   {
    "duration": 8,
    "start_time": "2023-02-12T11:27:02.211Z"
   },
   {
    "duration": 4,
    "start_time": "2023-02-12T11:27:02.222Z"
   },
   {
    "duration": 6,
    "start_time": "2023-02-12T11:27:02.228Z"
   },
   {
    "duration": 101,
    "start_time": "2023-02-12T11:57:51.918Z"
   },
   {
    "duration": 1181,
    "start_time": "2023-02-12T11:58:02.822Z"
   },
   {
    "duration": 9,
    "start_time": "2023-02-12T11:59:00.345Z"
   },
   {
    "duration": 1132,
    "start_time": "2023-02-12T11:59:16.463Z"
   },
   {
    "duration": 20,
    "start_time": "2023-02-12T11:59:17.597Z"
   },
   {
    "duration": 15,
    "start_time": "2023-02-12T11:59:17.619Z"
   },
   {
    "duration": 20,
    "start_time": "2023-02-12T11:59:17.636Z"
   },
   {
    "duration": 39,
    "start_time": "2023-02-12T11:59:17.658Z"
   },
   {
    "duration": 3,
    "start_time": "2023-02-12T11:59:17.699Z"
   },
   {
    "duration": 11,
    "start_time": "2023-02-12T11:59:17.703Z"
   },
   {
    "duration": 5,
    "start_time": "2023-02-12T11:59:17.715Z"
   },
   {
    "duration": 7,
    "start_time": "2023-02-12T11:59:17.722Z"
   },
   {
    "duration": 4,
    "start_time": "2023-02-12T11:59:17.750Z"
   },
   {
    "duration": 37,
    "start_time": "2023-02-12T11:59:17.755Z"
   },
   {
    "duration": 11,
    "start_time": "2023-02-12T11:59:17.793Z"
   },
   {
    "duration": 8,
    "start_time": "2023-02-12T11:59:17.805Z"
   },
   {
    "duration": 17,
    "start_time": "2023-02-12T11:59:17.815Z"
   },
   {
    "duration": 26,
    "start_time": "2023-02-12T11:59:17.834Z"
   },
   {
    "duration": 15,
    "start_time": "2023-02-12T11:59:17.862Z"
   },
   {
    "duration": 4,
    "start_time": "2023-02-12T11:59:17.879Z"
   },
   {
    "duration": 13,
    "start_time": "2023-02-12T11:59:17.884Z"
   },
   {
    "duration": 8,
    "start_time": "2023-02-12T11:59:17.899Z"
   },
   {
    "duration": 3,
    "start_time": "2023-02-12T11:59:17.909Z"
   },
   {
    "duration": 37,
    "start_time": "2023-02-12T11:59:17.914Z"
   },
   {
    "duration": 25,
    "start_time": "2023-02-12T11:59:17.952Z"
   },
   {
    "duration": 7,
    "start_time": "2023-02-12T11:59:17.978Z"
   },
   {
    "duration": 7,
    "start_time": "2023-02-12T11:59:17.986Z"
   },
   {
    "duration": 1162,
    "start_time": "2023-02-12T11:59:17.994Z"
   },
   {
    "duration": 3,
    "start_time": "2023-02-12T11:59:19.158Z"
   },
   {
    "duration": 7,
    "start_time": "2023-02-12T11:59:19.163Z"
   },
   {
    "duration": 4,
    "start_time": "2023-02-12T11:59:19.173Z"
   },
   {
    "duration": 4,
    "start_time": "2023-02-12T11:59:19.179Z"
   }
  ],
  "colab": {
   "provenance": []
  },
  "kernelspec": {
   "display_name": "Python 3 (ipykernel)",
   "language": "python",
   "name": "python3"
  },
  "language_info": {
   "codemirror_mode": {
    "name": "ipython",
    "version": 3
   },
   "file_extension": ".py",
   "mimetype": "text/x-python",
   "name": "python",
   "nbconvert_exporter": "python",
   "pygments_lexer": "ipython3",
   "version": "3.9.12"
  },
  "toc": {
   "base_numbering": 1,
   "nav_menu": {},
   "number_sections": true,
   "sideBar": true,
   "skip_h1_title": true,
   "title_cell": "Table of Contents",
   "title_sidebar": "Contents",
   "toc_cell": false,
   "toc_position": {},
   "toc_section_display": true,
   "toc_window_display": false
  }
 },
 "nbformat": 4,
 "nbformat_minor": 5
}
