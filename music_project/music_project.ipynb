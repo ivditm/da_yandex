{
 "cells": [
  {
   "cell_type": "markdown",
   "metadata": {
    "deletable": false,
    "editable": false,
    "id": "E0vqbgi9ay0H"
   },
   "source": [
    "# Яндекс Музыка"
   ]
  },
  {
   "cell_type": "markdown",
   "metadata": {
    "deletable": false,
    "editable": false,
    "id": "VUC88oWjTJw2"
   },
   "source": [
    "Сравнение Москвы и Петербурга окружено мифами. Например:\n",
    " * Москва — мегаполис, подчинённый жёсткому ритму рабочей недели;\n",
    " * Петербург — культурная столица, со своими вкусами.\n",
    "\n",
    "На данных Яндекс Музыки вы сравните поведение пользователей двух столиц.\n",
    "\n",
    "**Цель исследования** — проверьте три гипотезы:\n",
    "1. Активность пользователей зависит от дня недели. Причём в Москве и Петербурге это проявляется по-разному.\n",
    "2. В понедельник утром в Москве преобладают одни жанры, а в Петербурге — другие. Так же и вечером пятницы преобладают разные жанры — в зависимости от города. \n",
    "3. Москва и Петербург предпочитают разные жанры музыки. В Москве чаще слушают поп-музыку, в Петербурге — русский рэп.\n",
    "\n",
    "**Ход исследования**\n",
    "\n",
    "Данные о поведении пользователей вы получите из файла `yandex_music_project.csv`. О качестве данных ничего не известно. Поэтому перед проверкой гипотез понадобится обзор данных. \n",
    "\n",
    "Вы проверите данные на ошибки и оцените их влияние на исследование. Затем, на этапе предобработки вы поищете возможность исправить самые критичные ошибки данных.\n",
    " \n",
    "Таким образом, исследование пройдёт в три этапа:\n",
    " 1. Обзор данных.\n",
    " 2. Предобработка данных.\n",
    " 3. Проверка гипотез.\n",
    "\n"
   ]
  },
  {
   "cell_type": "markdown",
   "metadata": {
    "deletable": false,
    "editable": false,
    "id": "Ml1hmfXC_Zcs"
   },
   "source": [
    "## Обзор данных\n",
    "\n",
    "Составьте первое представление о данных Яндекс Музыки.\n",
    "\n",
    "\n"
   ]
  },
  {
   "cell_type": "code",
   "execution_count": 1,
   "metadata": {
    "deletable": false,
    "id": "AXN7PHPN_Zcs"
   },
   "outputs": [
    {
     "data": {
      "text/plain": [
       "True"
      ]
     },
     "execution_count": 1,
     "metadata": {},
     "output_type": "execute_result"
    }
   ],
   "source": [
    "# импорт библиотеки pandas\n",
    "import pandas as pd\n",
    "import os\n",
    "from dotenv import load_dotenv\n",
    "load_dotenv()"
   ]
  },
  {
   "cell_type": "code",
   "execution_count": 2,
   "metadata": {},
   "outputs": [],
   "source": [
    "num_row_show = 10"
   ]
  },
  {
   "cell_type": "code",
   "execution_count": 3,
   "metadata": {
    "deletable": false,
    "id": "fFVu7vqh_Zct"
   },
   "outputs": [],
   "source": [
    "# чтение файла с данными и сохранение в df\n",
    "df = pd.read_csv(os.getenv('m_d', ''))"
   ]
  },
  {
   "cell_type": "code",
   "execution_count": 4,
   "metadata": {
    "deletable": false,
    "id": "oWTVX3gW_Zct",
    "scrolled": true
   },
   "outputs": [
    {
     "data": {
      "text/html": [
       "<div>\n",
       "<style scoped>\n",
       "    .dataframe tbody tr th:only-of-type {\n",
       "        vertical-align: middle;\n",
       "    }\n",
       "\n",
       "    .dataframe tbody tr th {\n",
       "        vertical-align: top;\n",
       "    }\n",
       "\n",
       "    .dataframe thead th {\n",
       "        text-align: right;\n",
       "    }\n",
       "</style>\n",
       "<table border=\"1\" class=\"dataframe\">\n",
       "  <thead>\n",
       "    <tr style=\"text-align: right;\">\n",
       "      <th></th>\n",
       "      <th>userID</th>\n",
       "      <th>Track</th>\n",
       "      <th>artist</th>\n",
       "      <th>genre</th>\n",
       "      <th>City</th>\n",
       "      <th>time</th>\n",
       "      <th>Day</th>\n",
       "    </tr>\n",
       "  </thead>\n",
       "  <tbody>\n",
       "    <tr>\n",
       "      <th>0</th>\n",
       "      <td>FFB692EC</td>\n",
       "      <td>Kamigata To Boots</td>\n",
       "      <td>The Mass Missile</td>\n",
       "      <td>rock</td>\n",
       "      <td>Saint-Petersburg</td>\n",
       "      <td>20:28:33</td>\n",
       "      <td>Wednesday</td>\n",
       "    </tr>\n",
       "    <tr>\n",
       "      <th>1</th>\n",
       "      <td>55204538</td>\n",
       "      <td>Delayed Because of Accident</td>\n",
       "      <td>Andreas Rönnberg</td>\n",
       "      <td>rock</td>\n",
       "      <td>Moscow</td>\n",
       "      <td>14:07:09</td>\n",
       "      <td>Friday</td>\n",
       "    </tr>\n",
       "    <tr>\n",
       "      <th>2</th>\n",
       "      <td>20EC38</td>\n",
       "      <td>Funiculì funiculà</td>\n",
       "      <td>Mario Lanza</td>\n",
       "      <td>pop</td>\n",
       "      <td>Saint-Petersburg</td>\n",
       "      <td>20:58:07</td>\n",
       "      <td>Wednesday</td>\n",
       "    </tr>\n",
       "    <tr>\n",
       "      <th>3</th>\n",
       "      <td>A3DD03C9</td>\n",
       "      <td>Dragons in the Sunset</td>\n",
       "      <td>Fire + Ice</td>\n",
       "      <td>folk</td>\n",
       "      <td>Saint-Petersburg</td>\n",
       "      <td>08:37:09</td>\n",
       "      <td>Monday</td>\n",
       "    </tr>\n",
       "    <tr>\n",
       "      <th>4</th>\n",
       "      <td>E2DC1FAE</td>\n",
       "      <td>Soul People</td>\n",
       "      <td>Space Echo</td>\n",
       "      <td>dance</td>\n",
       "      <td>Moscow</td>\n",
       "      <td>08:34:34</td>\n",
       "      <td>Monday</td>\n",
       "    </tr>\n",
       "    <tr>\n",
       "      <th>5</th>\n",
       "      <td>842029A1</td>\n",
       "      <td>Преданная</td>\n",
       "      <td>IMPERVTOR</td>\n",
       "      <td>rusrap</td>\n",
       "      <td>Saint-Petersburg</td>\n",
       "      <td>13:09:41</td>\n",
       "      <td>Friday</td>\n",
       "    </tr>\n",
       "    <tr>\n",
       "      <th>6</th>\n",
       "      <td>4CB90AA5</td>\n",
       "      <td>True</td>\n",
       "      <td>Roman Messer</td>\n",
       "      <td>dance</td>\n",
       "      <td>Moscow</td>\n",
       "      <td>13:00:07</td>\n",
       "      <td>Wednesday</td>\n",
       "    </tr>\n",
       "    <tr>\n",
       "      <th>7</th>\n",
       "      <td>F03E1C1F</td>\n",
       "      <td>Feeling This Way</td>\n",
       "      <td>Polina Griffith</td>\n",
       "      <td>dance</td>\n",
       "      <td>Moscow</td>\n",
       "      <td>20:47:49</td>\n",
       "      <td>Wednesday</td>\n",
       "    </tr>\n",
       "    <tr>\n",
       "      <th>8</th>\n",
       "      <td>8FA1D3BE</td>\n",
       "      <td>И вновь продолжается бой</td>\n",
       "      <td>NaN</td>\n",
       "      <td>ruspop</td>\n",
       "      <td>Moscow</td>\n",
       "      <td>09:17:40</td>\n",
       "      <td>Friday</td>\n",
       "    </tr>\n",
       "    <tr>\n",
       "      <th>9</th>\n",
       "      <td>E772D5C0</td>\n",
       "      <td>Pessimist</td>\n",
       "      <td>NaN</td>\n",
       "      <td>dance</td>\n",
       "      <td>Saint-Petersburg</td>\n",
       "      <td>21:20:49</td>\n",
       "      <td>Wednesday</td>\n",
       "    </tr>\n",
       "  </tbody>\n",
       "</table>\n",
       "</div>"
      ],
      "text/plain": [
       "     userID                        Track            artist   genre  \\\n",
       "0  FFB692EC            Kamigata To Boots  The Mass Missile    rock   \n",
       "1  55204538  Delayed Because of Accident  Andreas Rönnberg    rock   \n",
       "2    20EC38            Funiculì funiculà       Mario Lanza     pop   \n",
       "3  A3DD03C9        Dragons in the Sunset        Fire + Ice    folk   \n",
       "4  E2DC1FAE                  Soul People        Space Echo   dance   \n",
       "5  842029A1                    Преданная         IMPERVTOR  rusrap   \n",
       "6  4CB90AA5                         True      Roman Messer   dance   \n",
       "7  F03E1C1F             Feeling This Way   Polina Griffith   dance   \n",
       "8  8FA1D3BE     И вновь продолжается бой               NaN  ruspop   \n",
       "9  E772D5C0                    Pessimist               NaN   dance   \n",
       "\n",
       "             City        time        Day  \n",
       "0  Saint-Petersburg  20:28:33  Wednesday  \n",
       "1            Moscow  14:07:09     Friday  \n",
       "2  Saint-Petersburg  20:58:07  Wednesday  \n",
       "3  Saint-Petersburg  08:37:09     Monday  \n",
       "4            Moscow  08:34:34     Monday  \n",
       "5  Saint-Petersburg  13:09:41     Friday  \n",
       "6            Moscow  13:00:07  Wednesday  \n",
       "7            Moscow  20:47:49  Wednesday  \n",
       "8            Moscow  09:17:40     Friday  \n",
       "9  Saint-Petersburg  21:20:49  Wednesday  "
      ]
     },
     "execution_count": 4,
     "metadata": {},
     "output_type": "execute_result"
    }
   ],
   "source": [
    "# получение первых 10 строк таблицы df\n",
    "df.head(num_row_show)"
   ]
  },
  {
   "cell_type": "code",
   "execution_count": 5,
   "metadata": {
    "deletable": false,
    "id": "DSf2kIb-_Zct",
    "scrolled": true
   },
   "outputs": [
    {
     "name": "stdout",
     "output_type": "stream",
     "text": [
      "<class 'pandas.core.frame.DataFrame'>\n",
      "RangeIndex: 65079 entries, 0 to 65078\n",
      "Data columns (total 7 columns):\n",
      " #   Column    Non-Null Count  Dtype \n",
      "---  ------    --------------  ----- \n",
      " 0     userID  65079 non-null  object\n",
      " 1   Track     63848 non-null  object\n",
      " 2   artist    57876 non-null  object\n",
      " 3   genre     63881 non-null  object\n",
      " 4     City    65079 non-null  object\n",
      " 5   time      65079 non-null  object\n",
      " 6   Day       65079 non-null  object\n",
      "dtypes: object(7)\n",
      "memory usage: 3.5+ MB\n"
     ]
    }
   ],
   "source": [
    "# получение общей информации о данных в таблице df\n",
    "df.info()"
   ]
  },
  {
   "cell_type": "markdown",
   "metadata": {
    "deletable": false,
    "editable": false,
    "id": "TaQ2Iwbr_Zct"
   },
   "source": [
    "Итак, в таблице семь столбцов. Тип данных во всех столбцах — `object`.\n",
    "\n",
    "Согласно документации к данным:\n",
    "* `userID` — идентификатор пользователя;\n",
    "* `Track` — название трека;  \n",
    "* `artist` — имя исполнителя;\n",
    "* `genre` — название жанра;\n",
    "* `City` — город пользователя;\n",
    "* `time` — время начала прослушивания;\n",
    "* `Day` — день недели.\n",
    "\n",
    "Количество значений в столбцах различается. Значит, в данных есть пропущенные значения."
   ]
  },
  {
   "cell_type": "markdown",
   "metadata": {
    "deletable": false,
    "editable": false,
    "id": "MCB6-dXG_Zct"
   },
   "source": [
    "**Выводы**\n",
    "\n",
    "В каждой строке таблицы — данные о прослушанном треке. Часть колонок описывает саму композицию: название, исполнителя и жанр. Остальные данные рассказывают о пользователе: из какого он города, когда он слушал музыку. \n",
    "\n",
    "Предварительно можно утверждать, что данных достаточно для проверки гипотез. Но встречаются пропуски в данных, а в названиях колонок — расхождения с хорошим стилем.\n",
    "\n",
    "Чтобы двигаться дальше, нужно устранить проблемы в данных."
   ]
  },
  {
   "cell_type": "markdown",
   "metadata": {
    "deletable": false,
    "editable": false,
    "id": "SjYF6Ub9_Zct"
   },
   "source": [
    "## Предобработка данных\n",
    "Исправьте стиль в заголовках столбцов, исключите пропуски. Затем проверьте данные на дубликаты."
   ]
  },
  {
   "cell_type": "code",
   "execution_count": 6,
   "metadata": {
    "deletable": false,
    "id": "oKOTdF_Q_Zct"
   },
   "outputs": [
    {
     "data": {
      "text/plain": [
       "Index(['  userID', 'Track', 'artist', 'genre', '  City  ', 'time', 'Day'], dtype='object')"
      ]
     },
     "execution_count": 6,
     "metadata": {},
     "output_type": "execute_result"
    }
   ],
   "source": [
    "# перечень названий столбцов таблицы df\n",
    "df.columns"
   ]
  },
  {
   "cell_type": "code",
   "execution_count": 7,
   "metadata": {
    "deletable": false,
    "id": "ISlFqs5y_Zct"
   },
   "outputs": [],
   "source": [
    "# переименование столбцов\n",
    "df = df.rename(columns={'  userID': 'user_id',\n",
    "                        'Track': 'track',\n",
    "                        '  City  ': 'city',\n",
    "                        'Day':'day'} )"
   ]
  },
  {
   "cell_type": "code",
   "execution_count": 8,
   "metadata": {
    "deletable": false,
    "id": "d4NOAmTW_Zct"
   },
   "outputs": [
    {
     "data": {
      "text/plain": [
       "Index(['user_id', 'track', 'artist', 'genre', 'city', 'time', 'day'], dtype='object')"
      ]
     },
     "execution_count": 8,
     "metadata": {},
     "output_type": "execute_result"
    }
   ],
   "source": [
    "# проверка результатов - перечень названий столбцов\n",
    "df.columns"
   ]
  },
  {
   "cell_type": "code",
   "execution_count": 9,
   "metadata": {
    "deletable": false,
    "id": "RskX29qr_Zct"
   },
   "outputs": [
    {
     "data": {
      "text/plain": [
       "user_id       0\n",
       "track      1231\n",
       "artist     7203\n",
       "genre      1198\n",
       "city          0\n",
       "time          0\n",
       "day           0\n",
       "dtype: int64"
      ]
     },
     "execution_count": 9,
     "metadata": {},
     "output_type": "execute_result"
    }
   ],
   "source": [
    "# подсчёт пропусков\n",
    "df.isna().sum()"
   ]
  },
  {
   "cell_type": "markdown",
   "metadata": {
    "deletable": false,
    "editable": false,
    "id": "qubhgnlO_Zct"
   },
   "source": [
    "Не все пропущенные значения влияют на исследование. Так в `track` и `artist` пропуски не важны для вашей работы. Достаточно заменить их явными обозначениями.\n",
    "\n",
    "Но пропуски в `genre` могут помешать сравнению музыкальных вкусов в Москве и Санкт-Петербурге. На практике было бы правильно установить причину пропусков и восстановить данные. Такой возможности нет в учебном проекте. Придётся:\n",
    "* заполнить и эти пропуски явными обозначениями;\n",
    "* оценить, насколько они повредят расчётам. "
   ]
  },
  {
   "cell_type": "code",
   "execution_count": 10,
   "metadata": {
    "deletable": false,
    "id": "KplB5qWs_Zct"
   },
   "outputs": [],
   "source": [
    "# перебор названий столбцов в цикле и замена пропущенных значений на 'unknown'\n",
    "columns_to_replace = ['track', 'artist', 'genre']\n",
    "\n",
    "for column in columns_to_replace:\n",
    "    df[column] = df[column].fillna('unknown')"
   ]
  },
  {
   "cell_type": "code",
   "execution_count": 11,
   "metadata": {
    "deletable": false,
    "id": "Tq4nYRX4_Zct",
    "scrolled": true
   },
   "outputs": [
    {
     "data": {
      "text/plain": [
       "user_id    0\n",
       "track      0\n",
       "artist     0\n",
       "genre      0\n",
       "city       0\n",
       "time       0\n",
       "day        0\n",
       "dtype: int64"
      ]
     },
     "execution_count": 11,
     "metadata": {},
     "output_type": "execute_result"
    }
   ],
   "source": [
    "# подсчёт пропусков\n",
    "df.isna().sum()"
   ]
  },
  {
   "cell_type": "markdown",
   "metadata": {
    "deletable": false,
    "editable": false,
    "id": "BWKRtBJ3_Zct",
    "tags": [
     "start_task"
    ]
   },
   "source": [
    "### Дубликаты"
   ]
  },
  {
   "cell_type": "code",
   "execution_count": 12,
   "metadata": {
    "deletable": false,
    "id": "36eES_S0_Zct"
   },
   "outputs": [
    {
     "data": {
      "text/plain": [
       "3826"
      ]
     },
     "execution_count": 12,
     "metadata": {},
     "output_type": "execute_result"
    }
   ],
   "source": [
    "# подсчёт явных дубликатов\n",
    "df.duplicated().sum()"
   ]
  },
  {
   "cell_type": "code",
   "execution_count": 13,
   "metadata": {
    "deletable": false,
    "id": "exFHq6tt_Zct"
   },
   "outputs": [],
   "source": [
    "# удаление явных дубликатов\n",
    "df = df.drop_duplicates()"
   ]
  },
  {
   "cell_type": "code",
   "execution_count": 14,
   "metadata": {
    "deletable": false,
    "id": "-8PuNWQ0_Zct"
   },
   "outputs": [
    {
     "data": {
      "text/plain": [
       "0"
      ]
     },
     "execution_count": 14,
     "metadata": {},
     "output_type": "execute_result"
    }
   ],
   "source": [
    "# проверка на отсутствие дубликатов\n",
    "df.duplicated().sum()"
   ]
  },
  {
   "cell_type": "code",
   "execution_count": 15,
   "metadata": {
    "deletable": false,
    "id": "JIUcqzZN_Zct",
    "scrolled": true
   },
   "outputs": [
    {
     "data": {
      "text/plain": [
       "array(['acid', 'acoustic', 'action', 'adult', 'africa', 'afrikaans',\n",
       "       'alternative', 'alternativepunk', 'ambient', 'americana',\n",
       "       'animated', 'anime', 'arabesk', 'arabic', 'arena',\n",
       "       'argentinetango', 'art', 'audiobook', 'author', 'avantgarde',\n",
       "       'axé', 'baile', 'balkan', 'beats', 'bigroom', 'black', 'bluegrass',\n",
       "       'blues', 'bollywood', 'bossa', 'brazilian', 'breakbeat', 'breaks',\n",
       "       'broadway', 'cantautori', 'cantopop', 'canzone', 'caribbean',\n",
       "       'caucasian', 'celtic', 'chamber', 'chanson', 'children', 'chill',\n",
       "       'chinese', 'choral', 'christian', 'christmas', 'classical',\n",
       "       'classicmetal', 'club', 'colombian', 'comedy', 'conjazz',\n",
       "       'contemporary', 'country', 'cuban', 'dance', 'dancehall',\n",
       "       'dancepop', 'dark', 'death', 'deep', 'deutschrock', 'deutschspr',\n",
       "       'dirty', 'disco', 'dnb', 'documentary', 'downbeat', 'downtempo',\n",
       "       'drum', 'dub', 'dubstep', 'eastern', 'easy', 'electronic',\n",
       "       'electropop', 'emo', 'entehno', 'epicmetal', 'estrada', 'ethnic',\n",
       "       'eurofolk', 'european', 'experimental', 'extrememetal', 'fado',\n",
       "       'fairytail', 'film', 'fitness', 'flamenco', 'folk', 'folklore',\n",
       "       'folkmetal', 'folkrock', 'folktronica', 'forró', 'frankreich',\n",
       "       'französisch', 'french', 'funk', 'future', 'gangsta', 'garage',\n",
       "       'german', 'ghazal', 'gitarre', 'glitch', 'gospel', 'gothic',\n",
       "       'grime', 'grunge', 'gypsy', 'handsup', \"hard'n'heavy\", 'hardcore',\n",
       "       'hardstyle', 'hardtechno', 'hip', 'hip-hop', 'hiphop',\n",
       "       'historisch', 'holiday', 'hop', 'horror', 'house', 'hymn', 'idm',\n",
       "       'independent', 'indian', 'indie', 'indipop', 'industrial',\n",
       "       'inspirational', 'instrumental', 'international', 'irish', 'jam',\n",
       "       'japanese', 'jazz', 'jewish', 'jpop', 'jungle', 'k-pop',\n",
       "       'karadeniz', 'karaoke', 'kayokyoku', 'korean', 'laiko', 'latin',\n",
       "       'latino', 'leftfield', 'local', 'lounge', 'loungeelectronic',\n",
       "       'lovers', 'malaysian', 'mandopop', 'marschmusik', 'meditative',\n",
       "       'mediterranean', 'melodic', 'metal', 'metalcore', 'mexican',\n",
       "       'middle', 'minimal', 'miscellaneous', 'modern', 'mood', 'mpb',\n",
       "       'muslim', 'native', 'neoklassik', 'neue', 'new', 'newage',\n",
       "       'newwave', 'nu', 'nujazz', 'numetal', 'oceania', 'old', 'opera',\n",
       "       'orchestral', 'other', 'piano', 'podcasts', 'pop', 'popdance',\n",
       "       'popelectronic', 'popeurodance', 'poprussian', 'post',\n",
       "       'posthardcore', 'postrock', 'power', 'progmetal', 'progressive',\n",
       "       'psychedelic', 'punjabi', 'punk', 'quebecois', 'ragga', 'ram',\n",
       "       'rancheras', 'rap', 'rave', 'reggae', 'reggaeton', 'regional',\n",
       "       'relax', 'religious', 'retro', 'rhythm', 'rnb', 'rnr', 'rock',\n",
       "       'rockabilly', 'rockalternative', 'rockindie', 'rockother',\n",
       "       'romance', 'roots', 'ruspop', 'rusrap', 'rusrock', 'russian',\n",
       "       'salsa', 'samba', 'scenic', 'schlager', 'self', 'sertanejo',\n",
       "       'shanson', 'shoegazing', 'showtunes', 'singer', 'ska', 'skarock',\n",
       "       'slow', 'smooth', 'soft', 'soul', 'soulful', 'sound', 'soundtrack',\n",
       "       'southern', 'specialty', 'speech', 'spiritual', 'sport',\n",
       "       'stonerrock', 'surf', 'swing', 'synthpop', 'synthrock',\n",
       "       'sängerportrait', 'tango', 'tanzorchester', 'taraftar', 'tatar',\n",
       "       'tech', 'techno', 'teen', 'thrash', 'top', 'traditional',\n",
       "       'tradjazz', 'trance', 'tribal', 'trip', 'triphop', 'tropical',\n",
       "       'türk', 'türkçe', 'ukrrock', 'unknown', 'urban', 'uzbek',\n",
       "       'variété', 'vi', 'videogame', 'vocal', 'western', 'world',\n",
       "       'worldbeat', 'ïîï', 'электроника'], dtype=object)"
      ]
     },
     "execution_count": 15,
     "metadata": {},
     "output_type": "execute_result"
    }
   ],
   "source": [
    "# Просмотр уникальных названий жанров\n",
    "df['genre'].sort_values().unique()"
   ]
  },
  {
   "cell_type": "code",
   "execution_count": 16,
   "metadata": {
    "deletable": false,
    "id": "ErNDkmns_Zct"
   },
   "outputs": [],
   "source": [
    "# Устранение неявных дубликатов\n",
    "df = df.replace(['hip', 'hop', 'hip-hop'], 'hiphop')"
   ]
  },
  {
   "cell_type": "code",
   "execution_count": 17,
   "metadata": {
    "deletable": false,
    "id": "wvixALnFG15m",
    "scrolled": true
   },
   "outputs": [
    {
     "data": {
      "text/plain": [
       "array(['acid', 'acoustic', 'action', 'adult', 'africa', 'afrikaans',\n",
       "       'alternative', 'alternativepunk', 'ambient', 'americana',\n",
       "       'animated', 'anime', 'arabesk', 'arabic', 'arena',\n",
       "       'argentinetango', 'art', 'audiobook', 'author', 'avantgarde',\n",
       "       'axé', 'baile', 'balkan', 'beats', 'bigroom', 'black', 'bluegrass',\n",
       "       'blues', 'bollywood', 'bossa', 'brazilian', 'breakbeat', 'breaks',\n",
       "       'broadway', 'cantautori', 'cantopop', 'canzone', 'caribbean',\n",
       "       'caucasian', 'celtic', 'chamber', 'chanson', 'children', 'chill',\n",
       "       'chinese', 'choral', 'christian', 'christmas', 'classical',\n",
       "       'classicmetal', 'club', 'colombian', 'comedy', 'conjazz',\n",
       "       'contemporary', 'country', 'cuban', 'dance', 'dancehall',\n",
       "       'dancepop', 'dark', 'death', 'deep', 'deutschrock', 'deutschspr',\n",
       "       'dirty', 'disco', 'dnb', 'documentary', 'downbeat', 'downtempo',\n",
       "       'drum', 'dub', 'dubstep', 'eastern', 'easy', 'electronic',\n",
       "       'electropop', 'emo', 'entehno', 'epicmetal', 'estrada', 'ethnic',\n",
       "       'eurofolk', 'european', 'experimental', 'extrememetal', 'fado',\n",
       "       'fairytail', 'film', 'fitness', 'flamenco', 'folk', 'folklore',\n",
       "       'folkmetal', 'folkrock', 'folktronica', 'forró', 'frankreich',\n",
       "       'französisch', 'french', 'funk', 'future', 'gangsta', 'garage',\n",
       "       'german', 'ghazal', 'gitarre', 'glitch', 'gospel', 'gothic',\n",
       "       'grime', 'grunge', 'gypsy', 'handsup', \"hard'n'heavy\", 'hardcore',\n",
       "       'hardstyle', 'hardtechno', 'hiphop', 'historisch', 'holiday',\n",
       "       'horror', 'house', 'hymn', 'idm', 'independent', 'indian', 'indie',\n",
       "       'indipop', 'industrial', 'inspirational', 'instrumental',\n",
       "       'international', 'irish', 'jam', 'japanese', 'jazz', 'jewish',\n",
       "       'jpop', 'jungle', 'k-pop', 'karadeniz', 'karaoke', 'kayokyoku',\n",
       "       'korean', 'laiko', 'latin', 'latino', 'leftfield', 'local',\n",
       "       'lounge', 'loungeelectronic', 'lovers', 'malaysian', 'mandopop',\n",
       "       'marschmusik', 'meditative', 'mediterranean', 'melodic', 'metal',\n",
       "       'metalcore', 'mexican', 'middle', 'minimal', 'miscellaneous',\n",
       "       'modern', 'mood', 'mpb', 'muslim', 'native', 'neoklassik', 'neue',\n",
       "       'new', 'newage', 'newwave', 'nu', 'nujazz', 'numetal', 'oceania',\n",
       "       'old', 'opera', 'orchestral', 'other', 'piano', 'podcasts', 'pop',\n",
       "       'popdance', 'popelectronic', 'popeurodance', 'poprussian', 'post',\n",
       "       'posthardcore', 'postrock', 'power', 'progmetal', 'progressive',\n",
       "       'psychedelic', 'punjabi', 'punk', 'quebecois', 'ragga', 'ram',\n",
       "       'rancheras', 'rap', 'rave', 'reggae', 'reggaeton', 'regional',\n",
       "       'relax', 'religious', 'retro', 'rhythm', 'rnb', 'rnr', 'rock',\n",
       "       'rockabilly', 'rockalternative', 'rockindie', 'rockother',\n",
       "       'romance', 'roots', 'ruspop', 'rusrap', 'rusrock', 'russian',\n",
       "       'salsa', 'samba', 'scenic', 'schlager', 'self', 'sertanejo',\n",
       "       'shanson', 'shoegazing', 'showtunes', 'singer', 'ska', 'skarock',\n",
       "       'slow', 'smooth', 'soft', 'soul', 'soulful', 'sound', 'soundtrack',\n",
       "       'southern', 'specialty', 'speech', 'spiritual', 'sport',\n",
       "       'stonerrock', 'surf', 'swing', 'synthpop', 'synthrock',\n",
       "       'sängerportrait', 'tango', 'tanzorchester', 'taraftar', 'tatar',\n",
       "       'tech', 'techno', 'teen', 'thrash', 'top', 'traditional',\n",
       "       'tradjazz', 'trance', 'tribal', 'trip', 'triphop', 'tropical',\n",
       "       'türk', 'türkçe', 'ukrrock', 'unknown', 'urban', 'uzbek',\n",
       "       'variété', 'vi', 'videogame', 'vocal', 'western', 'world',\n",
       "       'worldbeat', 'ïîï', 'электроника'], dtype=object)"
      ]
     },
     "execution_count": 17,
     "metadata": {},
     "output_type": "execute_result"
    }
   ],
   "source": [
    "# Проверка на неявные дубликаты\n",
    "df['genre'].sort_values().unique()"
   ]
  },
  {
   "cell_type": "markdown",
   "metadata": {
    "deletable": false,
    "editable": false,
    "id": "jz6a9-7HQUDd"
   },
   "source": [
    "**Выводы**\n",
    "\n",
    "Предобработка обнаружила три проблемы в данных:\n",
    "\n",
    "- нарушения в стиле заголовков,\n",
    "- пропущенные значения,\n",
    "- дубликаты — явные и неявные.\n",
    "\n",
    "Вы исправили заголовки, чтобы упростить работу с таблицей. Без дубликатов исследование станет более точным.\n",
    "\n",
    "Пропущенные значения вы заменили на `'unknown'`. Ещё предстоит увидеть, не повредят ли исследованию пропуски в колонке `genre`.\n",
    "\n",
    "Теперь можно перейти к проверке гипотез. "
   ]
  },
  {
   "cell_type": "markdown",
   "metadata": {
    "deletable": false,
    "editable": false,
    "id": "WttZHXH0SqKk"
   },
   "source": [
    "## Проверка гипотез"
   ]
  },
  {
   "cell_type": "markdown",
   "metadata": {
    "deletable": false,
    "editable": false,
    "id": "Im936VVi_Zcu"
   },
   "source": [
    "### Сравнение поведения пользователей двух столиц"
   ]
  },
  {
   "cell_type": "markdown",
   "metadata": {
    "deletable": false,
    "editable": false,
    "id": "nwt_MuaL_Zcu"
   },
   "source": [
    "Первая гипотеза утверждает, что пользователи по-разному слушают музыку в Москве и Санкт-Петербурге. Проверьте это предположение по данным о трёх днях недели — понедельнике, среде и пятнице. Для этого:\n",
    "\n",
    "* Разделите пользователей Москвы и Санкт-Петербурга.\n",
    "* Сравните, сколько треков послушала каждая группа пользователей в понедельник, среду и пятницу.\n"
   ]
  },
  {
   "cell_type": "code",
   "execution_count": 18,
   "metadata": {
    "deletable": false,
    "id": "0_Qs96oh_Zcu"
   },
   "outputs": [
    {
     "data": {
      "text/plain": [
       "city\n",
       "Moscow              42741\n",
       "Saint-Petersburg    18512\n",
       "Name: time, dtype: int64"
      ]
     },
     "execution_count": 18,
     "metadata": {},
     "output_type": "execute_result"
    }
   ],
   "source": [
    "# Подсчёт прослушиваний в каждом городе\n",
    "df.groupby('city')['time'].count()"
   ]
  },
  {
   "cell_type": "markdown",
   "metadata": {
    "deletable": false,
    "editable": false,
    "id": "dzli3w8o_Zcu",
    "tags": [
     "start_task"
    ]
   },
   "source": [
    "В Москве прослушиваний больше, чем в Петербурге. Из этого не следует, что московские пользователи чаще слушают музыку. Просто самих пользователей в Москве больше."
   ]
  },
  {
   "cell_type": "code",
   "execution_count": 19,
   "metadata": {
    "deletable": false,
    "id": "uZMKjiJz_Zcu"
   },
   "outputs": [
    {
     "data": {
      "text/plain": [
       "day\n",
       "Friday       21840\n",
       "Monday       21354\n",
       "Wednesday    18059\n",
       "Name: genre, dtype: int64"
      ]
     },
     "execution_count": 19,
     "metadata": {},
     "output_type": "execute_result"
    }
   ],
   "source": [
    "# Подсчёт прослушиваний в каждый из трёх дней\n",
    "df.groupby('day')['genre'].count()"
   ]
  },
  {
   "cell_type": "markdown",
   "metadata": {
    "deletable": false,
    "editable": false,
    "id": "cC2tNrlL_Zcu"
   },
   "source": [
    "В среднем пользователи из двух городов менее активны по средам. Но картина может измениться, если рассмотреть каждый город в отдельности."
   ]
  },
  {
   "cell_type": "code",
   "execution_count": 20,
   "metadata": {
    "deletable": false,
    "id": "Nz3GdQB1_Zcu"
   },
   "outputs": [],
   "source": [
    "def number_tracks(day: str, city: str) -> int:\n",
    "    track_list = df[(df['day'] == day) & \n",
    "                    (df['city'] == city)]\n",
    "    track_list_count = track_list['user_id'].count()\n",
    "    return track_list_count\n"
   ]
  },
  {
   "cell_type": "code",
   "execution_count": 21,
   "metadata": {
    "deletable": false,
    "id": "rJcRATNQ_Zcu"
   },
   "outputs": [
    {
     "data": {
      "text/plain": [
       "15740"
      ]
     },
     "execution_count": 21,
     "metadata": {},
     "output_type": "execute_result"
    }
   ],
   "source": [
    "# количество прослушиваний в Москве по понедельникам\n",
    "number_tracks('Monday', 'Moscow')"
   ]
  },
  {
   "cell_type": "code",
   "execution_count": 22,
   "metadata": {
    "deletable": false,
    "id": "hq_ncZ5T_Zcu"
   },
   "outputs": [
    {
     "data": {
      "text/plain": [
       "5614"
      ]
     },
     "execution_count": 22,
     "metadata": {},
     "output_type": "execute_result"
    }
   ],
   "source": [
    "# количество прослушиваний в Санкт-Петербурге по понедельникам\n",
    "number_tracks('Monday', 'Saint-Petersburg')"
   ]
  },
  {
   "cell_type": "code",
   "execution_count": 23,
   "metadata": {
    "deletable": false,
    "id": "_NTy2VPU_Zcu"
   },
   "outputs": [
    {
     "data": {
      "text/plain": [
       "11056"
      ]
     },
     "execution_count": 23,
     "metadata": {},
     "output_type": "execute_result"
    }
   ],
   "source": [
    "# количество прослушиваний в Москве по средам\n",
    "number_tracks('Wednesday', 'Moscow')"
   ]
  },
  {
   "cell_type": "code",
   "execution_count": 24,
   "metadata": {
    "deletable": false,
    "id": "j2y3TAwo_Zcu"
   },
   "outputs": [
    {
     "data": {
      "text/plain": [
       "7003"
      ]
     },
     "execution_count": 24,
     "metadata": {},
     "output_type": "execute_result"
    }
   ],
   "source": [
    "# количество прослушиваний в Санкт-Петербурге по средам\n",
    "number_tracks('Wednesday', 'Saint-Petersburg')"
   ]
  },
  {
   "cell_type": "code",
   "execution_count": 25,
   "metadata": {
    "deletable": false,
    "id": "vYDw5u_K_Zcu"
   },
   "outputs": [
    {
     "data": {
      "text/plain": [
       "15945"
      ]
     },
     "execution_count": 25,
     "metadata": {},
     "output_type": "execute_result"
    }
   ],
   "source": [
    "# количество прослушиваний в Москве по пятницам\n",
    "number_tracks('Friday', 'Moscow')"
   ]
  },
  {
   "cell_type": "code",
   "execution_count": 26,
   "metadata": {
    "deletable": false,
    "id": "8_yzFtW3_Zcu"
   },
   "outputs": [
    {
     "data": {
      "text/plain": [
       "5895"
      ]
     },
     "execution_count": 26,
     "metadata": {},
     "output_type": "execute_result"
    }
   ],
   "source": [
    "# количество прослушиваний в Санкт-Петербурге по пятницам\n",
    "number_tracks('Friday', 'Saint-Petersburg')"
   ]
  },
  {
   "cell_type": "code",
   "execution_count": 27,
   "metadata": {
    "deletable": false,
    "id": "APAcLpOr_Zcu"
   },
   "outputs": [
    {
     "data": {
      "text/html": [
       "<div>\n",
       "<style scoped>\n",
       "    .dataframe tbody tr th:only-of-type {\n",
       "        vertical-align: middle;\n",
       "    }\n",
       "\n",
       "    .dataframe tbody tr th {\n",
       "        vertical-align: top;\n",
       "    }\n",
       "\n",
       "    .dataframe thead th {\n",
       "        text-align: right;\n",
       "    }\n",
       "</style>\n",
       "<table border=\"1\" class=\"dataframe\">\n",
       "  <thead>\n",
       "    <tr style=\"text-align: right;\">\n",
       "      <th></th>\n",
       "      <th>city</th>\n",
       "      <th>monday</th>\n",
       "      <th>wednesday</th>\n",
       "      <th>friday</th>\n",
       "    </tr>\n",
       "  </thead>\n",
       "  <tbody>\n",
       "    <tr>\n",
       "      <th>0</th>\n",
       "      <td>Moscow</td>\n",
       "      <td>15740</td>\n",
       "      <td>11056</td>\n",
       "      <td>15945</td>\n",
       "    </tr>\n",
       "    <tr>\n",
       "      <th>1</th>\n",
       "      <td>Saint-Petersburg</td>\n",
       "      <td>5614</td>\n",
       "      <td>7003</td>\n",
       "      <td>5895</td>\n",
       "    </tr>\n",
       "  </tbody>\n",
       "</table>\n",
       "</div>"
      ],
      "text/plain": [
       "               city  monday  wednesday  friday\n",
       "0            Moscow   15740      11056   15945\n",
       "1  Saint-Petersburg    5614       7003    5895"
      ]
     },
     "execution_count": 27,
     "metadata": {},
     "output_type": "execute_result"
    }
   ],
   "source": [
    "# Таблица с результатами\n",
    "data = [['Moscow', \n",
    "        number_tracks('Monday', 'Moscow'),\n",
    "        number_tracks('Wednesday', 'Moscow'), \n",
    "        number_tracks('Friday', 'Moscow')],\n",
    "       ['Saint-Petersburg', \n",
    "       number_tracks('Monday', 'Saint-Petersburg'),\n",
    "       number_tracks('Wednesday', 'Saint-Petersburg'),\n",
    "       number_tracks('Friday', 'Saint-Petersburg')]]\n",
    "\n",
    "result_table = pd.DataFrame(data=data, columns=['city', 'monday', 'wednesday', 'friday'])\n",
    "result_table"
   ]
  },
  {
   "cell_type": "markdown",
   "metadata": {
    "deletable": false,
    "editable": false,
    "id": "-EgPIHYu_Zcu"
   },
   "source": [
    "**Выводы**\n",
    "\n",
    "Данные показывают разницу поведения пользователей:\n",
    "\n",
    "- В Москве пик прослушиваний приходится на понедельник и пятницу, а в среду заметен спад.\n",
    "- В Петербурге, наоборот, больше слушают музыку по средам. Активность в понедельник и пятницу здесь почти в равной мере уступает среде.\n",
    "\n",
    "Значит, данные говорят в пользу первой гипотезы."
   ]
  },
  {
   "cell_type": "markdown",
   "metadata": {
    "deletable": false,
    "editable": false,
    "id": "atZAxtq4_Zcu"
   },
   "source": [
    "### Музыка в начале и в конце недели"
   ]
  },
  {
   "cell_type": "markdown",
   "metadata": {
    "deletable": false,
    "editable": false,
    "id": "eXrQqXFH_Zcu"
   },
   "source": [
    "Согласно второй гипотезе, утром в понедельник в Москве преобладают одни жанры, а в Петербурге — другие. Так же и вечером пятницы преобладают разные жанры — в зависимости от города."
   ]
  },
  {
   "cell_type": "code",
   "execution_count": 28,
   "metadata": {
    "deletable": false,
    "id": "qeaFfM_P_Zcu"
   },
   "outputs": [],
   "source": [
    "# получение таблицы moscow_general из тех строк таблицы df, \n",
    "# для которых значение в столбце 'city' равно 'Moscow'\n",
    "moscow_general = df[df['city'] == 'Moscow']"
   ]
  },
  {
   "cell_type": "code",
   "execution_count": 29,
   "metadata": {
    "deletable": false,
    "id": "ORaVRKto_Zcu"
   },
   "outputs": [],
   "source": [
    "# получение таблицы spb_general из тех строк таблицы df,\n",
    "# для которых значение в столбце 'city' равно 'Saint-Petersburg'\n",
    "spb_general = df[df['city'] == 'Saint-Petersburg']"
   ]
  },
  {
   "cell_type": "code",
   "execution_count": 30,
   "metadata": {
    "deletable": false,
    "id": "laJT9BYl_Zcu"
   },
   "outputs": [],
   "source": [
    "def genre_weekday(df, day, time1, time2):\n",
    "    genre_df = df[df['day'] == day]\n",
    "    genre_df = genre_df[genre_df['time'] < time2]\n",
    "    genre_df = genre_df[genre_df['time'] > time1]\n",
    "    genre_df_grouped = genre_df.groupby('genre')['genre'].count()\n",
    "    genre_df_sorted = genre_df_grouped.sort_values(ascending=False)\n",
    "    return genre_df_sorted[:num_row_show]"
   ]
  },
  {
   "cell_type": "code",
   "execution_count": 31,
   "metadata": {
    "deletable": false,
    "id": "yz7itPUQ_Zcu",
    "scrolled": true
   },
   "outputs": [
    {
     "data": {
      "text/plain": [
       "genre\n",
       "pop            781\n",
       "dance          549\n",
       "electronic     480\n",
       "rock           474\n",
       "hiphop         286\n",
       "ruspop         186\n",
       "world          181\n",
       "rusrap         175\n",
       "alternative    164\n",
       "unknown        161\n",
       "Name: genre, dtype: int64"
      ]
     },
     "execution_count": 31,
     "metadata": {},
     "output_type": "execute_result"
    }
   ],
   "source": [
    "# вызов функции для утра понедельника в Москве\n",
    "genre_weekday(moscow_general, 'Monday', '07:00', '11:00')"
   ]
  },
  {
   "cell_type": "code",
   "execution_count": 32,
   "metadata": {
    "deletable": false,
    "id": "kwUcHPdy_Zcu"
   },
   "outputs": [
    {
     "data": {
      "text/plain": [
       "genre\n",
       "pop            218\n",
       "dance          182\n",
       "rock           162\n",
       "electronic     147\n",
       "hiphop          80\n",
       "ruspop          64\n",
       "alternative     58\n",
       "rusrap          55\n",
       "jazz            44\n",
       "classical       40\n",
       "Name: genre, dtype: int64"
      ]
     },
     "execution_count": 32,
     "metadata": {},
     "output_type": "execute_result"
    }
   ],
   "source": [
    "# вызов функции для утра понедельника в Петербурге (вместо df — таблица spb_general)\n",
    "genre_weekday(spb_general,\n",
    "              'Monday',\n",
    "              '07:00',\n",
    "              '11:00')"
   ]
  },
  {
   "cell_type": "code",
   "execution_count": 33,
   "metadata": {
    "deletable": false,
    "id": "EzXVRE1o_Zcu",
    "scrolled": true
   },
   "outputs": [
    {
     "data": {
      "text/plain": [
       "genre\n",
       "pop            713\n",
       "rock           517\n",
       "dance          495\n",
       "electronic     482\n",
       "hiphop         273\n",
       "world          208\n",
       "ruspop         170\n",
       "alternative    163\n",
       "classical      163\n",
       "rusrap         142\n",
       "Name: genre, dtype: int64"
      ]
     },
     "execution_count": 33,
     "metadata": {},
     "output_type": "execute_result"
    }
   ],
   "source": [
    "# вызов функции для вечера пятницы в Москве\n",
    "genre_weekday(moscow_general,\n",
    "              'Friday', '17:00',\n",
    "              '23:00')"
   ]
  },
  {
   "cell_type": "code",
   "execution_count": 34,
   "metadata": {
    "deletable": false,
    "id": "JZaEKu5v_Zcu",
    "scrolled": false
   },
   "outputs": [
    {
     "data": {
      "text/plain": [
       "genre\n",
       "pop            256\n",
       "electronic     216\n",
       "rock           216\n",
       "dance          210\n",
       "hiphop          97\n",
       "alternative     63\n",
       "jazz            61\n",
       "classical       60\n",
       "rusrap          59\n",
       "world           54\n",
       "Name: genre, dtype: int64"
      ]
     },
     "execution_count": 34,
     "metadata": {},
     "output_type": "execute_result"
    }
   ],
   "source": [
    "# вызов функции для вечера пятницы в Петербурге\n",
    "genre_weekday(spb_general,\n",
    "              'Friday',\n",
    "              '17:00',\n",
    "              '23:00')"
   ]
  },
  {
   "cell_type": "markdown",
   "metadata": {
    "deletable": false,
    "editable": false,
    "id": "wrCe4MNX_Zcu"
   },
   "source": [
    "**Выводы**\n",
    "\n",
    "Если сравнить топ-10 жанров в понедельник утром, можно сделать такие выводы:\n",
    "\n",
    "1. В Москве и Петербурге слушают похожую музыку. Единственное отличие — в московский рейтинг вошёл жанр “world”, а в петербургский — джаз и классика.\n",
    "\n",
    "2. В Москве пропущенных значений оказалось так много, что значение `'unknown'` заняло десятое место среди самых популярных жанров. Значит, пропущенные значения занимают существенную долю в данных и угрожают достоверности исследования.\n",
    "\n",
    "Вечер пятницы не меняет эту картину. Некоторые жанры поднимаются немного выше, другие спускаются, но в целом топ-10 остаётся тем же самым.\n",
    "\n",
    "Таким образом, вторая гипотеза подтвердилась лишь частично:\n",
    "* Пользователи слушают похожую музыку в начале недели и в конце.\n",
    "* Разница между Москвой и Петербургом не слишком выражена. В Москве чаще слушают русскую популярную музыку, в Петербурге — джаз.\n",
    "\n",
    "Однако пропуски в данных ставят под сомнение этот результат. В Москве их так много, что рейтинг топ-10 мог бы выглядеть иначе, если бы не утерянные  данные о жанрах."
   ]
  },
  {
   "cell_type": "markdown",
   "metadata": {
    "deletable": false,
    "editable": false,
    "id": "JolODAqr_Zcu"
   },
   "source": [
    "### Жанровые предпочтения в Москве и Петербурге\n",
    "\n",
    "Гипотеза: Петербург — столица рэпа, музыку этого жанра там слушают чаще, чем в Москве.  А Москва — город контрастов, в котором, тем не менее, преобладает поп-музыка."
   ]
  },
  {
   "cell_type": "code",
   "execution_count": 35,
   "metadata": {
    "deletable": false,
    "id": "r19lIPke_Zcu"
   },
   "outputs": [],
   "source": [
    "moscow_genres = moscow_general.groupby('genre')['genre'].count().sort_values(ascending=False)"
   ]
  },
  {
   "cell_type": "code",
   "execution_count": 36,
   "metadata": {
    "deletable": false,
    "id": "WhCSooF8_Zcv"
   },
   "outputs": [
    {
     "data": {
      "text/plain": [
       "genre\n",
       "pop            5892\n",
       "dance          4435\n",
       "rock           3965\n",
       "electronic     3786\n",
       "hiphop         2096\n",
       "classical      1616\n",
       "world          1432\n",
       "alternative    1379\n",
       "ruspop         1372\n",
       "rusrap         1161\n",
       "Name: genre, dtype: int64"
      ]
     },
     "execution_count": 36,
     "metadata": {},
     "output_type": "execute_result"
    }
   ],
   "source": [
    "# просмотр первых 10 строк moscow_genres\n",
    "moscow_genres.head(num_row_show)"
   ]
  },
  {
   "cell_type": "markdown",
   "metadata": {
    "deletable": false,
    "editable": false,
    "id": "cnPG2vnN_Zcv",
    "tags": [
     "start_task"
    ]
   },
   "source": [
    "**Задание 28**\n",
    "\n",
    "\n",
    "Теперь повторите то же и для Петербурга.\n",
    "\n",
    "Сгруппируйте таблицу `spb_general` по жанру. Посчитайте прослушивания треков каждого жанра. Результат отсортируйте в порядке убывания и сохраните в таблице `spb_genres`:\n"
   ]
  },
  {
   "cell_type": "code",
   "execution_count": 37,
   "metadata": {
    "deletable": false,
    "id": "gluLIpE7_Zcv"
   },
   "outputs": [],
   "source": [
    "spb_genres = spb_general.groupby('genre')['genre'].count().sort_values(ascending=False)"
   ]
  },
  {
   "cell_type": "code",
   "execution_count": 38,
   "metadata": {
    "deletable": false,
    "id": "uaGJHjVU_Zcv"
   },
   "outputs": [
    {
     "data": {
      "text/plain": [
       "genre\n",
       "pop            2431\n",
       "dance          1932\n",
       "rock           1879\n",
       "electronic     1736\n",
       "hiphop          960\n",
       "alternative     649\n",
       "classical       646\n",
       "rusrap          564\n",
       "ruspop          538\n",
       "world           515\n",
       "Name: genre, dtype: int64"
      ]
     },
     "execution_count": 38,
     "metadata": {},
     "output_type": "execute_result"
    }
   ],
   "source": [
    "# просмотр первых 10 строк spb_genres\n",
    "spb_genres.head(num_row_show)"
   ]
  },
  {
   "cell_type": "markdown",
   "metadata": {
    "deletable": false,
    "editable": false,
    "id": "RY51YJYu_Zcv"
   },
   "source": [
    "**Выводы**"
   ]
  },
  {
   "cell_type": "markdown",
   "metadata": {
    "deletable": false,
    "editable": false,
    "id": "nVhnJEm__Zcv"
   },
   "source": [
    "Гипотеза частично подтвердилась:\n",
    "* Поп-музыка — самый популярный жанр в Москве, как и предполагала гипотеза. Более того, в топ-10 жанров встречается близкий жанр — русская популярная музыка.\n",
    "* Вопреки ожиданиям, рэп одинаково популярен в Москве и Петербурге. \n"
   ]
  },
  {
   "cell_type": "markdown",
   "metadata": {
    "deletable": false,
    "editable": false,
    "id": "ykKQ0N65_Zcv"
   },
   "source": [
    "## Итоги исследования"
   ]
  },
  {
   "cell_type": "markdown",
   "metadata": {
    "deletable": false,
    "editable": false,
    "id": "tjUwbHb3_Zcv"
   },
   "source": [
    "Вы проверили три гипотезы и установили:\n",
    "\n",
    "1. День недели по-разному влияет на активность пользователей в Москве и Петербурге. \n",
    "\n",
    "Первая гипотеза полностью подтвердилась.\n",
    "\n",
    "2. Музыкальные предпочтения не сильно меняются в течение недели — будь то Москва или Петербург. Небольшие различия заметны в начале недели, по понедельникам:\n",
    "* в Москве слушают музыку жанра “world”,\n",
    "* в Петербурге — джаз и классику.\n",
    "\n",
    "Таким образом, вторая гипотеза подтвердилась лишь отчасти. Этот результат мог оказаться иным, если бы не пропуски в данных.\n",
    "\n",
    "3. Во вкусах пользователей Москвы и Петербурга больше общего чем различий. Вопреки ожиданиям, предпочтения жанров в Петербурге напоминают московские.\n",
    "\n",
    "Третья гипотеза не подтвердилась. Если различия в предпочтениях и существуют, на основной массе пользователей они незаметны.\n",
    "\n",
    "**На практике исследования содержат проверки статистических гипотез.**\n",
    "Из данных одного сервиса не всегда можно сделать вывод о всех жителях города.\n",
    "Проверки статистических гипотез покажут, насколько они достоверны, исходя из имеющихся данных. \n",
    "С методами проверок гипотез вы ещё познакомитесь в следующих темах."
   ]
  }
 ],
 "metadata": {
  "ExecuteTimeLog": [
   {
    "duration": 45,
    "start_time": "2023-01-17T18:23:16.304Z"
   },
   {
    "duration": 399,
    "start_time": "2023-01-17T18:23:21.396Z"
   },
   {
    "duration": 232,
    "start_time": "2023-01-17T18:23:23.614Z"
   },
   {
    "duration": 16,
    "start_time": "2023-01-17T18:23:57.694Z"
   },
   {
    "duration": 25,
    "start_time": "2023-01-17T18:24:29.495Z"
   },
   {
    "duration": 2,
    "start_time": "2023-01-17T18:27:38.122Z"
   },
   {
    "duration": 40,
    "start_time": "2023-01-17T18:28:35.754Z"
   },
   {
    "duration": 4,
    "start_time": "2023-01-17T18:28:57.803Z"
   },
   {
    "duration": 11,
    "start_time": "2023-01-17T18:32:08.102Z"
   },
   {
    "duration": 5,
    "start_time": "2023-01-17T18:32:45.792Z"
   },
   {
    "duration": 73,
    "start_time": "2023-01-17T18:42:42.403Z"
   },
   {
    "duration": 33,
    "start_time": "2023-01-17T18:44:20.176Z"
   },
   {
    "duration": 15,
    "start_time": "2023-01-17T18:47:14.808Z"
   },
   {
    "duration": 17,
    "start_time": "2023-01-17T18:48:11.496Z"
   },
   {
    "duration": 12,
    "start_time": "2023-01-17T18:48:38.778Z"
   },
   {
    "duration": 9,
    "start_time": "2023-01-17T18:48:46.131Z"
   },
   {
    "duration": 9,
    "start_time": "2023-01-17T18:49:20.896Z"
   },
   {
    "duration": 10,
    "start_time": "2023-01-17T18:50:08.533Z"
   },
   {
    "duration": 10,
    "start_time": "2023-01-17T18:50:33.903Z"
   },
   {
    "duration": 2,
    "start_time": "2023-01-17T18:50:58.641Z"
   },
   {
    "duration": 192,
    "start_time": "2023-01-17T18:51:00.532Z"
   },
   {
    "duration": 11,
    "start_time": "2023-01-17T18:51:02.542Z"
   },
   {
    "duration": 25,
    "start_time": "2023-01-17T18:51:06.524Z"
   },
   {
    "duration": 8,
    "start_time": "2023-01-17T18:51:11.178Z"
   },
   {
    "duration": 12,
    "start_time": "2023-01-17T18:51:14.192Z"
   },
   {
    "duration": 4,
    "start_time": "2023-01-17T18:51:16.766Z"
   },
   {
    "duration": 23,
    "start_time": "2023-01-17T18:51:21.492Z"
   },
   {
    "duration": 17,
    "start_time": "2023-01-17T18:51:26.012Z"
   },
   {
    "duration": 40,
    "start_time": "2023-01-17T19:44:42.566Z"
   },
   {
    "duration": 63,
    "start_time": "2023-01-17T19:45:27.010Z"
   },
   {
    "duration": 66,
    "start_time": "2023-01-17T19:46:25.655Z"
   },
   {
    "duration": 66,
    "start_time": "2023-01-17T19:47:01.423Z"
   },
   {
    "duration": 9,
    "start_time": "2023-01-17T19:48:15.730Z"
   },
   {
    "duration": 7,
    "start_time": "2023-01-17T19:48:24.988Z"
   },
   {
    "duration": 6,
    "start_time": "2023-01-17T19:48:47.534Z"
   },
   {
    "duration": 63,
    "start_time": "2023-01-17T19:55:25.310Z"
   },
   {
    "duration": 53,
    "start_time": "2023-01-17T19:55:26.822Z"
   },
   {
    "duration": 6,
    "start_time": "2023-01-17T19:55:56.440Z"
   },
   {
    "duration": 8,
    "start_time": "2023-01-17T19:56:23.736Z"
   },
   {
    "duration": 8,
    "start_time": "2023-01-17T19:56:30.824Z"
   },
   {
    "duration": 39,
    "start_time": "2023-01-17T19:57:53.441Z"
   },
   {
    "duration": 33,
    "start_time": "2023-01-17T19:59:11.648Z"
   },
   {
    "duration": 64,
    "start_time": "2023-01-17T19:59:40.759Z"
   },
   {
    "duration": 169,
    "start_time": "2023-01-17T19:59:50.949Z"
   },
   {
    "duration": 11,
    "start_time": "2023-01-17T19:59:52.847Z"
   },
   {
    "duration": 27,
    "start_time": "2023-01-17T19:59:55.293Z"
   },
   {
    "duration": 6,
    "start_time": "2023-01-17T20:00:01.304Z"
   },
   {
    "duration": 7,
    "start_time": "2023-01-17T20:00:03.592Z"
   },
   {
    "duration": 5,
    "start_time": "2023-01-17T20:00:05.756Z"
   },
   {
    "duration": 23,
    "start_time": "2023-01-17T20:00:08.165Z"
   },
   {
    "duration": 18,
    "start_time": "2023-01-17T20:00:10.757Z"
   },
   {
    "duration": 25,
    "start_time": "2023-01-17T20:00:12.759Z"
   },
   {
    "duration": 65,
    "start_time": "2023-01-17T20:00:15.025Z"
   },
   {
    "duration": 67,
    "start_time": "2023-01-17T20:00:16.710Z"
   },
   {
    "duration": 64,
    "start_time": "2023-01-17T20:00:18.671Z"
   },
   {
    "duration": 37,
    "start_time": "2023-01-17T20:00:20.840Z"
   },
   {
    "duration": 76,
    "start_time": "2023-01-17T20:52:51.936Z"
   },
   {
    "duration": 32,
    "start_time": "2023-01-17T20:54:12.153Z"
   },
   {
    "duration": 12,
    "start_time": "2023-01-17T21:06:44.030Z"
   },
   {
    "duration": 13,
    "start_time": "2023-01-17T21:06:58.684Z"
   },
   {
    "duration": 11,
    "start_time": "2023-01-17T21:08:22.871Z"
   },
   {
    "duration": 9,
    "start_time": "2023-01-18T06:27:49.452Z"
   },
   {
    "duration": 417,
    "start_time": "2023-01-18T06:28:17.557Z"
   },
   {
    "duration": 443,
    "start_time": "2023-01-18T06:28:19.574Z"
   },
   {
    "duration": 16,
    "start_time": "2023-01-18T06:28:21.752Z"
   },
   {
    "duration": 28,
    "start_time": "2023-01-18T06:28:25.718Z"
   },
   {
    "duration": 10,
    "start_time": "2023-01-18T06:28:32.085Z"
   },
   {
    "duration": 15,
    "start_time": "2023-01-18T06:28:37.589Z"
   },
   {
    "duration": 5,
    "start_time": "2023-01-18T06:28:39.773Z"
   },
   {
    "duration": 24,
    "start_time": "2023-01-18T06:28:41.896Z"
   },
   {
    "duration": 30,
    "start_time": "2023-01-18T06:28:44.998Z"
   },
   {
    "duration": 27,
    "start_time": "2023-01-18T06:28:46.828Z"
   },
   {
    "duration": 76,
    "start_time": "2023-01-18T06:28:49.310Z"
   },
   {
    "duration": 72,
    "start_time": "2023-01-18T06:28:50.992Z"
   },
   {
    "duration": 57,
    "start_time": "2023-01-18T06:28:52.387Z"
   },
   {
    "duration": 39,
    "start_time": "2023-01-18T06:28:55.139Z"
   },
   {
    "duration": 77,
    "start_time": "2023-01-18T06:28:58.687Z"
   },
   {
    "duration": 39,
    "start_time": "2023-01-18T06:29:01.081Z"
   },
   {
    "duration": 17,
    "start_time": "2023-01-18T06:29:04.815Z"
   },
   {
    "duration": 11,
    "start_time": "2023-01-18T06:29:06.842Z"
   },
   {
    "duration": 5,
    "start_time": "2023-01-18T06:29:10.116Z"
   },
   {
    "duration": 31,
    "start_time": "2023-01-18T06:33:01.996Z"
   },
   {
    "duration": 26,
    "start_time": "2023-01-18T06:34:13.270Z"
   },
   {
    "duration": 18,
    "start_time": "2023-01-18T06:37:14.918Z"
   },
   {
    "duration": 15,
    "start_time": "2023-01-18T06:37:16.423Z"
   },
   {
    "duration": 15,
    "start_time": "2023-01-18T06:37:17.879Z"
   },
   {
    "duration": 17,
    "start_time": "2023-01-18T06:37:19.632Z"
   },
   {
    "duration": 13,
    "start_time": "2023-01-18T06:37:22.029Z"
   },
   {
    "duration": 48,
    "start_time": "2023-01-18T09:57:11.755Z"
   },
   {
    "duration": 7,
    "start_time": "2023-01-18T09:57:46.654Z"
   },
   {
    "duration": 6,
    "start_time": "2023-01-18T09:57:53.272Z"
   },
   {
    "duration": 433,
    "start_time": "2023-01-18T09:58:05.254Z"
   },
   {
    "duration": 218,
    "start_time": "2023-01-18T09:58:06.803Z"
   },
   {
    "duration": 15,
    "start_time": "2023-01-18T09:58:08.427Z"
   },
   {
    "duration": 28,
    "start_time": "2023-01-18T09:58:10.754Z"
   },
   {
    "duration": 4,
    "start_time": "2023-01-18T09:58:15.330Z"
   },
   {
    "duration": 10,
    "start_time": "2023-01-18T09:58:17.907Z"
   },
   {
    "duration": 4,
    "start_time": "2023-01-18T09:58:20.092Z"
   },
   {
    "duration": 24,
    "start_time": "2023-01-18T09:58:22.150Z"
   },
   {
    "duration": 19,
    "start_time": "2023-01-18T09:58:24.595Z"
   },
   {
    "duration": 23,
    "start_time": "2023-01-18T09:58:26.314Z"
   },
   {
    "duration": 59,
    "start_time": "2023-01-18T09:58:28.652Z"
   },
   {
    "duration": 77,
    "start_time": "2023-01-18T09:58:30.850Z"
   },
   {
    "duration": 58,
    "start_time": "2023-01-18T09:58:33.273Z"
   },
   {
    "duration": 38,
    "start_time": "2023-01-18T09:58:40.154Z"
   },
   {
    "duration": 108,
    "start_time": "2023-01-18T09:58:44.298Z"
   },
   {
    "duration": 36,
    "start_time": "2023-01-18T09:58:46.509Z"
   },
   {
    "duration": 11,
    "start_time": "2023-01-18T09:58:52.349Z"
   },
   {
    "duration": 10,
    "start_time": "2023-01-18T09:58:54.384Z"
   },
   {
    "duration": 3,
    "start_time": "2023-01-18T09:58:57.522Z"
   },
   {
    "duration": 14,
    "start_time": "2023-01-18T09:58:59.563Z"
   },
   {
    "duration": 12,
    "start_time": "2023-01-18T09:59:02.018Z"
   },
   {
    "duration": 14,
    "start_time": "2023-01-18T09:59:03.421Z"
   },
   {
    "duration": 14,
    "start_time": "2023-01-18T09:59:05.209Z"
   },
   {
    "duration": 16,
    "start_time": "2023-01-18T09:59:06.263Z"
   },
   {
    "duration": 13,
    "start_time": "2023-01-18T09:59:07.902Z"
   },
   {
    "duration": 63,
    "start_time": "2023-01-18T09:59:10.516Z"
   },
   {
    "duration": 61,
    "start_time": "2023-01-18T10:02:45.664Z"
   },
   {
    "duration": 73,
    "start_time": "2023-01-18T10:02:54.923Z"
   },
   {
    "duration": 82,
    "start_time": "2023-01-18T10:03:30.672Z"
   },
   {
    "duration": 5,
    "start_time": "2023-01-18T10:06:05.854Z"
   },
   {
    "duration": 8,
    "start_time": "2023-01-18T10:08:20.357Z"
   },
   {
    "duration": 6,
    "start_time": "2023-01-18T10:11:30.325Z"
   },
   {
    "duration": 8,
    "start_time": "2023-01-18T10:12:18.823Z"
   },
   {
    "duration": 6,
    "start_time": "2023-01-18T10:12:30.988Z"
   },
   {
    "duration": 35,
    "start_time": "2023-01-18T10:14:09.866Z"
   },
   {
    "duration": 8,
    "start_time": "2023-01-18T10:14:20.572Z"
   },
   {
    "duration": 6,
    "start_time": "2023-01-18T10:15:27.056Z"
   },
   {
    "duration": 7,
    "start_time": "2023-01-18T10:15:46.202Z"
   },
   {
    "duration": 3,
    "start_time": "2023-01-18T10:16:40.055Z"
   },
   {
    "duration": 16,
    "start_time": "2023-01-18T10:17:18.423Z"
   },
   {
    "duration": 19,
    "start_time": "2023-01-18T10:17:39.265Z"
   },
   {
    "duration": 9,
    "start_time": "2023-01-18T10:17:46.817Z"
   },
   {
    "duration": 10,
    "start_time": "2023-01-18T10:18:00.569Z"
   },
   {
    "duration": 11,
    "start_time": "2023-01-18T10:18:12.480Z"
   },
   {
    "duration": 6,
    "start_time": "2023-01-18T11:13:00.009Z"
   },
   {
    "duration": 15,
    "start_time": "2023-01-18T11:19:33.742Z"
   },
   {
    "duration": 13,
    "start_time": "2023-01-18T11:20:03.091Z"
   },
   {
    "duration": 16,
    "start_time": "2023-01-18T11:20:48.577Z"
   },
   {
    "duration": 13,
    "start_time": "2023-01-18T11:20:50.904Z"
   },
   {
    "duration": 9,
    "start_time": "2023-01-18T11:21:48.747Z"
   },
   {
    "duration": 11,
    "start_time": "2023-01-18T11:21:50.333Z"
   },
   {
    "duration": 17,
    "start_time": "2023-01-18T11:22:26.507Z"
   },
   {
    "duration": 16,
    "start_time": "2023-01-18T11:22:28.528Z"
   },
   {
    "duration": 7,
    "start_time": "2023-01-18T11:28:35.219Z"
   },
   {
    "duration": 9,
    "start_time": "2023-01-18T11:29:06.342Z"
   },
   {
    "duration": 13,
    "start_time": "2023-01-18T11:29:17.035Z"
   },
   {
    "duration": 11,
    "start_time": "2023-01-18T11:29:59.703Z"
   },
   {
    "duration": 26,
    "start_time": "2023-01-18T11:30:34.419Z"
   },
   {
    "duration": 26,
    "start_time": "2023-01-18T11:30:50.309Z"
   },
   {
    "duration": 71,
    "start_time": "2023-01-18T11:30:58.419Z"
   },
   {
    "duration": 29,
    "start_time": "2023-01-18T11:31:50.085Z"
   },
   {
    "duration": 25,
    "start_time": "2023-01-18T11:31:56.739Z"
   },
   {
    "duration": 24,
    "start_time": "2023-01-18T11:32:11.960Z"
   },
   {
    "duration": 25,
    "start_time": "2023-01-18T11:37:42.427Z"
   },
   {
    "duration": 30,
    "start_time": "2023-01-18T11:38:19.552Z"
   },
   {
    "duration": 9,
    "start_time": "2023-01-18T11:39:16.508Z"
   },
   {
    "duration": 11,
    "start_time": "2023-01-18T11:39:32.168Z"
   },
   {
    "duration": 11,
    "start_time": "2023-01-18T11:40:15.931Z"
   },
   {
    "duration": 13,
    "start_time": "2023-01-18T11:41:19.696Z"
   },
   {
    "duration": 23,
    "start_time": "2023-01-18T11:43:23.418Z"
   },
   {
    "duration": 26,
    "start_time": "2023-01-18T11:43:43.636Z"
   },
   {
    "duration": 10,
    "start_time": "2023-01-18T11:44:18.528Z"
   },
   {
    "duration": 10,
    "start_time": "2023-01-18T11:45:07.308Z"
   },
   {
    "duration": 16,
    "start_time": "2023-01-18T11:45:17.420Z"
   },
   {
    "duration": 10,
    "start_time": "2023-01-18T11:47:34.391Z"
   },
   {
    "duration": 10,
    "start_time": "2023-01-18T11:48:13.656Z"
   },
   {
    "duration": 420,
    "start_time": "2023-01-18T11:48:35.647Z"
   },
   {
    "duration": 159,
    "start_time": "2023-01-18T11:48:36.069Z"
   },
   {
    "duration": 16,
    "start_time": "2023-01-18T11:48:36.229Z"
   },
   {
    "duration": 66,
    "start_time": "2023-01-18T11:48:36.246Z"
   },
   {
    "duration": 5,
    "start_time": "2023-01-18T11:48:36.314Z"
   },
   {
    "duration": 28,
    "start_time": "2023-01-18T11:48:36.320Z"
   },
   {
    "duration": 38,
    "start_time": "2023-01-18T11:48:36.349Z"
   },
   {
    "duration": 29,
    "start_time": "2023-01-18T11:48:36.389Z"
   },
   {
    "duration": 44,
    "start_time": "2023-01-18T11:48:36.419Z"
   },
   {
    "duration": 34,
    "start_time": "2023-01-18T11:48:36.466Z"
   },
   {
    "duration": 40,
    "start_time": "2023-01-18T11:48:36.502Z"
   },
   {
    "duration": 85,
    "start_time": "2023-01-18T11:48:36.544Z"
   },
   {
    "duration": 73,
    "start_time": "2023-01-18T11:48:36.631Z"
   },
   {
    "duration": 88,
    "start_time": "2023-01-18T11:48:36.706Z"
   },
   {
    "duration": 38,
    "start_time": "2023-01-18T11:48:36.795Z"
   },
   {
    "duration": 93,
    "start_time": "2023-01-18T11:48:36.834Z"
   },
   {
    "duration": 41,
    "start_time": "2023-01-18T11:48:36.929Z"
   },
   {
    "duration": 17,
    "start_time": "2023-01-18T11:48:36.972Z"
   },
   {
    "duration": 11,
    "start_time": "2023-01-18T11:48:36.990Z"
   },
   {
    "duration": 4,
    "start_time": "2023-01-18T11:48:37.002Z"
   },
   {
    "duration": 22,
    "start_time": "2023-01-18T11:48:37.008Z"
   },
   {
    "duration": 13,
    "start_time": "2023-01-18T11:48:37.032Z"
   },
   {
    "duration": 42,
    "start_time": "2023-01-18T11:48:37.047Z"
   },
   {
    "duration": 13,
    "start_time": "2023-01-18T11:48:37.090Z"
   },
   {
    "duration": 15,
    "start_time": "2023-01-18T11:48:37.104Z"
   },
   {
    "duration": 12,
    "start_time": "2023-01-18T11:48:37.120Z"
   },
   {
    "duration": 91,
    "start_time": "2023-01-18T11:48:37.133Z"
   },
   {
    "duration": 11,
    "start_time": "2023-01-18T11:48:37.228Z"
   },
   {
    "duration": 9,
    "start_time": "2023-01-18T11:48:37.241Z"
   },
   {
    "duration": 6,
    "start_time": "2023-01-18T11:48:37.251Z"
   },
   {
    "duration": 15,
    "start_time": "2023-01-18T11:48:37.277Z"
   },
   {
    "duration": 9,
    "start_time": "2023-01-18T11:48:37.294Z"
   },
   {
    "duration": 16,
    "start_time": "2023-01-18T11:48:37.304Z"
   },
   {
    "duration": 11,
    "start_time": "2023-01-18T11:48:37.321Z"
   },
   {
    "duration": 11,
    "start_time": "2023-01-18T11:48:37.333Z"
   },
   {
    "duration": 33,
    "start_time": "2023-01-18T11:48:37.345Z"
   },
   {
    "duration": 5,
    "start_time": "2023-01-18T11:48:37.380Z"
   },
   {
    "duration": 4,
    "start_time": "2023-01-18T11:48:37.386Z"
   },
   {
    "duration": 349,
    "start_time": "2023-01-18T14:45:42.234Z"
   },
   {
    "duration": 153,
    "start_time": "2023-01-18T14:45:42.585Z"
   },
   {
    "duration": 15,
    "start_time": "2023-01-18T14:45:42.740Z"
   },
   {
    "duration": 38,
    "start_time": "2023-01-18T14:45:42.757Z"
   },
   {
    "duration": 3,
    "start_time": "2023-01-18T14:45:42.796Z"
   },
   {
    "duration": 8,
    "start_time": "2023-01-18T14:45:42.800Z"
   },
   {
    "duration": 13,
    "start_time": "2023-01-18T14:45:42.809Z"
   },
   {
    "duration": 8,
    "start_time": "2023-01-18T14:45:42.823Z"
   },
   {
    "duration": 25,
    "start_time": "2023-01-18T14:45:42.834Z"
   },
   {
    "duration": 18,
    "start_time": "2023-01-18T14:45:42.935Z"
   },
   {
    "duration": 23,
    "start_time": "2023-01-18T14:45:43.055Z"
   },
   {
    "duration": 63,
    "start_time": "2023-01-18T14:45:43.217Z"
   },
   {
    "duration": 65,
    "start_time": "2023-01-18T14:45:43.335Z"
   },
   {
    "duration": 61,
    "start_time": "2023-01-18T14:45:43.555Z"
   },
   {
    "duration": 37,
    "start_time": "2023-01-18T14:45:43.618Z"
   },
   {
    "duration": 79,
    "start_time": "2023-01-18T14:45:43.656Z"
   },
   {
    "duration": 39,
    "start_time": "2023-01-18T14:45:43.737Z"
   },
   {
    "duration": 20,
    "start_time": "2023-01-18T14:45:43.778Z"
   },
   {
    "duration": 10,
    "start_time": "2023-01-18T14:45:43.800Z"
   },
   {
    "duration": 4,
    "start_time": "2023-01-18T14:45:43.811Z"
   },
   {
    "duration": 20,
    "start_time": "2023-01-18T14:45:43.816Z"
   },
   {
    "duration": 16,
    "start_time": "2023-01-18T14:45:43.837Z"
   },
   {
    "duration": 39,
    "start_time": "2023-01-18T14:45:43.855Z"
   },
   {
    "duration": 12,
    "start_time": "2023-01-18T14:45:43.896Z"
   },
   {
    "duration": 24,
    "start_time": "2023-01-18T14:45:43.935Z"
   },
   {
    "duration": 72,
    "start_time": "2023-01-18T14:45:43.995Z"
   },
   {
    "duration": 67,
    "start_time": "2023-01-18T14:45:45.555Z"
   },
   {
    "duration": 12,
    "start_time": "2023-01-18T14:45:49.756Z"
   },
   {
    "duration": 10,
    "start_time": "2023-01-18T14:45:49.770Z"
   },
   {
    "duration": 6,
    "start_time": "2023-01-18T14:45:50.458Z"
   },
   {
    "duration": 23,
    "start_time": "2023-01-18T14:45:50.467Z"
   },
   {
    "duration": 11,
    "start_time": "2023-01-18T14:45:50.491Z"
   },
   {
    "duration": 19,
    "start_time": "2023-01-18T14:45:50.537Z"
   },
   {
    "duration": 14,
    "start_time": "2023-01-18T14:45:50.558Z"
   },
   {
    "duration": 10,
    "start_time": "2023-01-18T14:45:50.796Z"
   },
   {
    "duration": 2,
    "start_time": "2023-01-18T14:45:50.809Z"
   },
   {
    "duration": 6,
    "start_time": "2023-01-18T14:45:50.813Z"
   },
   {
    "duration": 9,
    "start_time": "2023-01-18T14:45:50.821Z"
   },
   {
    "duration": 381,
    "start_time": "2023-01-18T14:56:20.632Z"
   },
   {
    "duration": 162,
    "start_time": "2023-01-18T14:56:21.015Z"
   },
   {
    "duration": 20,
    "start_time": "2023-01-18T14:56:21.179Z"
   },
   {
    "duration": 29,
    "start_time": "2023-01-18T14:56:21.201Z"
   },
   {
    "duration": 22,
    "start_time": "2023-01-18T14:56:21.233Z"
   },
   {
    "duration": 11,
    "start_time": "2023-01-18T14:56:21.257Z"
   },
   {
    "duration": 27,
    "start_time": "2023-01-18T14:56:21.270Z"
   },
   {
    "duration": 36,
    "start_time": "2023-01-18T14:56:21.299Z"
   },
   {
    "duration": 38,
    "start_time": "2023-01-18T14:56:21.336Z"
   },
   {
    "duration": 38,
    "start_time": "2023-01-18T14:56:21.376Z"
   },
   {
    "duration": 33,
    "start_time": "2023-01-18T14:56:21.416Z"
   },
   {
    "duration": 92,
    "start_time": "2023-01-18T14:56:21.450Z"
   },
   {
    "duration": 72,
    "start_time": "2023-01-18T14:56:21.544Z"
   },
   {
    "duration": 64,
    "start_time": "2023-01-18T14:56:21.618Z"
   },
   {
    "duration": 44,
    "start_time": "2023-01-18T14:56:21.693Z"
   },
   {
    "duration": 102,
    "start_time": "2023-01-18T14:56:21.739Z"
   },
   {
    "duration": 41,
    "start_time": "2023-01-18T14:56:21.843Z"
   },
   {
    "duration": 17,
    "start_time": "2023-01-18T14:56:21.885Z"
   },
   {
    "duration": 16,
    "start_time": "2023-01-18T14:56:21.903Z"
   },
   {
    "duration": 12,
    "start_time": "2023-01-18T14:56:21.921Z"
   },
   {
    "duration": 54,
    "start_time": "2023-01-18T14:56:21.935Z"
   },
   {
    "duration": 18,
    "start_time": "2023-01-18T14:56:21.990Z"
   },
   {
    "duration": 18,
    "start_time": "2023-01-18T14:56:22.010Z"
   },
   {
    "duration": 15,
    "start_time": "2023-01-18T14:56:22.030Z"
   },
   {
    "duration": 29,
    "start_time": "2023-01-18T14:56:22.046Z"
   },
   {
    "duration": 22,
    "start_time": "2023-01-18T14:56:22.076Z"
   },
   {
    "duration": 64,
    "start_time": "2023-01-18T14:56:22.100Z"
   },
   {
    "duration": 11,
    "start_time": "2023-01-18T14:56:22.166Z"
   },
   {
    "duration": 8,
    "start_time": "2023-01-18T14:56:22.193Z"
   },
   {
    "duration": 5,
    "start_time": "2023-01-18T14:56:24.772Z"
   },
   {
    "duration": 31,
    "start_time": "2023-01-18T14:56:24.778Z"
   },
   {
    "duration": 10,
    "start_time": "2023-01-18T14:56:24.810Z"
   },
   {
    "duration": 16,
    "start_time": "2023-01-18T14:56:24.852Z"
   },
   {
    "duration": 10,
    "start_time": "2023-01-18T14:56:24.870Z"
   },
   {
    "duration": 10,
    "start_time": "2023-01-18T14:56:24.932Z"
   },
   {
    "duration": 2,
    "start_time": "2023-01-18T14:56:24.944Z"
   },
   {
    "duration": 8,
    "start_time": "2023-01-18T14:56:24.948Z"
   },
   {
    "duration": 6,
    "start_time": "2023-01-18T14:56:24.957Z"
   },
   {
    "duration": 10,
    "start_time": "2023-01-18T16:25:08.460Z"
   },
   {
    "duration": 9,
    "start_time": "2023-01-18T17:34:56.486Z"
   },
   {
    "duration": 5,
    "start_time": "2023-01-18T17:35:09.022Z"
   },
   {
    "duration": 6,
    "start_time": "2023-01-18T17:37:06.699Z"
   }
  ],
  "colab": {
   "collapsed_sections": [
    "E0vqbgi9ay0H",
    "VUC88oWjTJw2"
   ],
   "name": "automatization_template_upd4.ipynb",
   "provenance": []
  },
  "kernelspec": {
   "display_name": "Python 3 (ipykernel)",
   "language": "python",
   "name": "python3"
  },
  "language_info": {
   "codemirror_mode": {
    "name": "ipython",
    "version": 3
   },
   "file_extension": ".py",
   "mimetype": "text/x-python",
   "name": "python",
   "nbconvert_exporter": "python",
   "pygments_lexer": "ipython3",
   "version": "3.9.12"
  },
  "toc": {
   "base_numbering": 1,
   "nav_menu": {
    "height": "215px",
    "width": "403px"
   },
   "number_sections": true,
   "sideBar": true,
   "skip_h1_title": true,
   "title_cell": "Table of Contents",
   "title_sidebar": "Contents",
   "toc_cell": false,
   "toc_position": {
    "height": "calc(100% - 180px)",
    "left": "10px",
    "top": "150px",
    "width": "285.825px"
   },
   "toc_section_display": true,
   "toc_window_display": false
  }
 },
 "nbformat": 4,
 "nbformat_minor": 1
}
